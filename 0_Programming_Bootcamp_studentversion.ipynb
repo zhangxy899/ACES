{
 "cells": [
  {
   "cell_type": "markdown",
   "metadata": {},
   "source": [
    "# Programming Bootcamp\n",
    "##### adapted from UC Berkeley's Data 8 \"Foundations of Data Science\" curriculum"
   ]
  },
  {
   "cell_type": "markdown",
   "metadata": {},
   "source": [
    "# 1. Jupyter notebooks\n",
    "This webpage is called a Jupyter notebook. A notebook is a place to write programs and view their results, and also to write text.\n",
    "\n",
    "## 1.1. Text cells\n",
    "In a notebook, each rectangle containing text or code is called a *cell*.\n",
    "\n",
    "Text cells (like this one) can be edited by double-clicking on them. They're written in a simple format called [Markdown](http://daringfireball.net/projects/markdown/syntax) to add formatting and section headings.\n",
    "\n",
    "After you edit a text cell, click the \"run cell\" button at the top that looks like ▶| or hold down `shift` + `return` to confirm any changes. (Try not to delete the instructions.)"
   ]
  },
  {
   "cell_type": "markdown",
   "metadata": {},
   "source": [
    "This paragraph is in its own text cell.  Try editing it so that this sentence is the last sentence in the paragraph."
   ]
  },
  {
   "cell_type": "markdown",
   "metadata": {},
   "source": [
    "## 1.2. Code cells\n",
    "Other cells contain code in the Python 3 language. Running a code cell will execute all of the code it contains.\n",
    "\n",
    "To run the code in a code cell, first click on that cell to activate it.  It'll be highlighted with a little green or blue rectangle.  Next, either press ▶| or hold down `shift` + `return`.\n",
    "\n",
    "Try running this cell:"
   ]
  },
  {
   "cell_type": "code",
   "execution_count": 4,
   "metadata": {},
   "outputs": [
    {
     "name": "stdout",
     "output_type": "stream",
     "text": [
      "Hello, Ron!\n"
     ]
    }
   ],
   "source": [
    "print(\"Hello, Ron!\")"
   ]
  },
  {
   "cell_type": "markdown",
   "metadata": {},
   "source": [
    "The fundamental building block of Python code is an expression. Cells can contain multiple lines with multiple expressions. When you run a cell, the lines of code are executed in the order in which they appear. Every `print` expression prints a line. Run the next cell and notice the order of the output."
   ]
  },
  {
   "cell_type": "code",
   "execution_count": 6,
   "metadata": {},
   "outputs": [
    {
     "name": "stdout",
     "output_type": "stream",
     "text": [
      "First this line,\n",
      "then the whole world,\n",
      "and then this one.\n"
     ]
    }
   ],
   "source": [
    "print(\"First this line,\")\n",
    "print(\"then the whole world,\")\n",
    "print(\"and then this one.\")"
   ]
  },
  {
   "cell_type": "markdown",
   "metadata": {},
   "source": [
    "Change the cell above so that it prints out:\n",
    "\n",
    "    First this line,\n",
    "    then the whole world,\n",
    "    and then this one."
   ]
  },
  {
   "cell_type": "markdown",
   "metadata": {},
   "source": [
    "## 1.3. Writing Jupyter notebooks\n",
    "You can use Jupyter notebooks for your own projects or documents.  When you make your own notebook, you'll need to create your own cells for text and code.\n",
    "\n",
    "To add a cell, click the + button in the menu bar.  It'll start out as a text cell.  You can change it to a code cell by clicking inside it so it's highlighted, clicking the drop-down box next to the restart (⟳) button in the menu bar, and choosing \"Code\".\n",
    "\n",
    "Add a code cell below this one.  Write code in it that prints out:\n",
    "   \n",
    "    A whole new cell!\n",
    "\n",
    "Run your cell to verify that it works.\n"
   ]
  },
  {
   "cell_type": "code",
   "execution_count": 158,
   "metadata": {},
   "outputs": [
    {
     "name": "stdout",
     "output_type": "stream",
     "text": [
      "A whole new cell!\n"
     ]
    }
   ],
   "source": [
    "print('A whole new cell!')"
   ]
  },
  {
   "cell_type": "markdown",
   "metadata": {},
   "source": [
    "## 1.4. Errors\n",
    "Python is a language, and like natural human languages, it has rules.  It differs from natural language in two important ways:\n",
    "1. The rules are *simple*.  You can learn most of them in a few weeks and gain reasonable proficiency with the language in a semester.\n",
    "2. The rules are *rigid*.  If you're proficient in a natural language, you can understand a non-proficient speaker, glossing over small mistakes.  A computer running Python code is not smart enough to do that.\n",
    "\n",
    "Whenever you write code, you'll make mistakes.  When you run a code cell that has errors, Python will sometimes produce error messages to tell you what you did wrong.\n",
    "\n",
    "Errors are okay; even experienced programmers make many errors.  When you make an error, you just have to find the source of the problem, fix it, and move on.\n",
    "\n",
    "We have made an error in the next cell.  Run it and see what happens."
   ]
  },
  {
   "cell_type": "code",
   "execution_count": 10,
   "metadata": {},
   "outputs": [
    {
     "name": "stdout",
     "output_type": "stream",
     "text": [
      "This line is missing something.\n"
     ]
    }
   ],
   "source": [
    "print(\"This line is missing something.\")"
   ]
  },
  {
   "cell_type": "markdown",
   "metadata": {},
   "source": [
    "**Note:** In the toolbar, there is the option to click `Cell > Run All`, which will run all the code cells in this notebook in order. However, the notebook stops running code cells if it hits an error, like the one in the cell above."
   ]
  },
  {
   "cell_type": "markdown",
   "metadata": {},
   "source": [
    "The last line of the error output attempts to tell you what went wrong.  The *syntax* of a language is its structure, and this `SyntaxError` tells you that you have created an illegal structure.  \"`EOF`\" means \"end of file,\" so the message is saying Python expected you to write something more (in this case, a right parenthesis) before finishing the cell.\n",
    "\n",
    "There's a lot of terminology in programming languages, but you don't need to know it all in order to program effectively. If you see a cryptic message like this, you can often get by without deciphering it.  (Of course, if you're frustrated, ask a neighbor or a staff member for help.)\n",
    "\n",
    "Try to fix the code above so that you can run the cell and see the intended message instead of an error."
   ]
  },
  {
   "cell_type": "markdown",
   "metadata": {},
   "source": [
    "## 1.5. The Kernel\n",
    "The kernel is a program that executes the code inside your notebook and outputs the results. In the top right of your window, you can see a circle that indicates the status of your kernel. If the circle is empty (⚪), the kernel is idle and ready to execute code. If the circle is filled in (⚫), the kernel is busy running some code. \n",
    "\n",
    "You may run into problems where your kernel is stuck for an excessive amount of time, your notebook is very slow and unresponsive, or your kernel loses its connection. If this happens, try the following steps:\n",
    "1. At the top of your screen, click **Kernel**, then **Interrupt**.\n",
    "2. If that doesn't help, click **Kernel**, then **Restart**. If you do this, you will have to run your code cells from the start of your notebook up until where you paused your work.\n",
    "3. If that doesn't help, restart your server. First, save your work by clicking **File** at the top left of your screen, then **Save and Checkpoint**. Next, click **Control Panel** at the top right. Choose **Stop My Server** to shut it down, then **Start My Server** to start it back up. Then, navigate back to the notebook you were working on. You'll still have to run your code cells again."
   ]
  },
  {
   "cell_type": "markdown",
   "metadata": {},
   "source": [
    "# 2. Numbers\n",
    "\n",
    "In addition to representing commands to print out lines, expressions can represent numbers and methods of combining numbers. The expression `3.2500` evaluates to the number 3.25. (Run the cell and see.)"
   ]
  },
  {
   "cell_type": "code",
   "execution_count": 11,
   "metadata": {},
   "outputs": [
    {
     "data": {
      "text/plain": [
       "3.25"
      ]
     },
     "execution_count": 11,
     "metadata": {},
     "output_type": "execute_result"
    }
   ],
   "source": [
    "3.2500"
   ]
  },
  {
   "cell_type": "markdown",
   "metadata": {},
   "source": [
    "Notice that we didn't have to `print`. When you run a notebook cell, if the last line has a value, then Jupyter helpfully prints out that value for you. However, it won't print out prior lines automatically."
   ]
  },
  {
   "cell_type": "code",
   "execution_count": 15,
   "metadata": {},
   "outputs": [
    {
     "name": "stdout",
     "output_type": "stream",
     "text": [
      "2\n"
     ]
    },
    {
     "data": {
      "text/plain": [
       "4"
      ]
     },
     "execution_count": 15,
     "metadata": {},
     "output_type": "execute_result"
    }
   ],
   "source": [
    "print(2)\n",
    "3\n",
    "4"
   ]
  },
  {
   "cell_type": "markdown",
   "metadata": {},
   "source": [
    "Above, you should see that 4 is the value of the last expression, 2 is printed, but 3 is lost forever because it was neither printed nor last.\n",
    "\n",
    "You don't want to print everything all the time anyway.  But if you feel sorry for 3, change the cell above to print it."
   ]
  },
  {
   "cell_type": "markdown",
   "metadata": {},
   "source": [
    "## 2.1. Arithmetic\n",
    "The line in the next cell subtracts.  Its value is what you'd expect.  Run it."
   ]
  },
  {
   "cell_type": "code",
   "execution_count": 16,
   "metadata": {},
   "outputs": [
    {
     "data": {
      "text/plain": [
       "1.75"
      ]
     },
     "execution_count": 16,
     "metadata": {},
     "output_type": "execute_result"
    }
   ],
   "source": [
    "3.25 - 1.5"
   ]
  },
  {
   "cell_type": "markdown",
   "metadata": {},
   "source": [
    "Many basic arithmetic operations are built into Python:\n",
    "\n",
    "| Expression Type | Operator |  Example |   Value |\n",
    "|----------------:|---------:|---------:|--------:|\n",
    "|        Addition |        + |    2 + 3 |       5 |\n",
    "|     Subtraction |        - |    2 - 3 |      -1 |\n",
    "|  Multiplication |        * |    2 * 3 |       6 |\n",
    "|        Division |        / |    7 / 3 |  2.6667 |\n",
    "|       Remainder |        % |    7 % 3 |       1 |\n",
    "|  Exponentiation |       ** | 2 ** 0.5 | 1.41421 |\n",
    "\n",
    "Python obeys the same order of operations that we do, and Python also has parentheses.  For example, compare the outputs of the cells below."
   ]
  },
  {
   "cell_type": "code",
   "execution_count": 17,
   "metadata": {},
   "outputs": [
    {
     "data": {
      "text/plain": [
       "-723.0"
      ]
     },
     "execution_count": 17,
     "metadata": {},
     "output_type": "execute_result"
    }
   ],
   "source": [
    "3+6*5-6*3**2*2**3/4*7"
   ]
  },
  {
   "cell_type": "code",
   "execution_count": 18,
   "metadata": {},
   "outputs": [
    {
     "data": {
      "text/plain": [
       "2019.0"
      ]
     },
     "execution_count": 18,
     "metadata": {},
     "output_type": "execute_result"
    }
   ],
   "source": [
    "3+(6*5-(6*3))**2*((2**3)/4*7)"
   ]
  },
  {
   "cell_type": "markdown",
   "metadata": {},
   "source": [
    "In standard math notation, the first expression is\n",
    "\n",
    "$$3 + 6 \\times 5 - 6 \\times 3^2 \\times \\frac{2^3}{4} \\times 7,$$\n",
    "\n",
    "while the second expression is\n",
    "\n",
    "$$3 + (6 \\times 5 - (6 \\times 3))^2 \\times (\\frac{(2^3)}{4} \\times 7).$$\n",
    "\n",
    "Write a Python expression in this next cell that's equal to $5 \\times (3 \\frac{10}{11}) - 50 \\frac{1}{3} + 2^{.5 \\times 22} - \\frac{7}{33} + 2$.  That's five times three and ten elevenths, minus fifty and a third, plus two to the power of half twenty-two, minus seven thirty-thirds plus two.  By \"$3 \\frac{10}{11}$\" we mean $3+\\frac{10}{11}$, not $3 \\times \\frac{10}{11}$.\n",
    "\n",
    "Replace the ellipses (`...`) with your expression.  Try to use parentheses only when necessary."
   ]
  },
  {
   "cell_type": "code",
   "execution_count": 3,
   "metadata": {},
   "outputs": [
    {
     "data": {
      "text/plain": [
       "2019.0"
      ]
     },
     "execution_count": 3,
     "metadata": {},
     "output_type": "execute_result"
    }
   ],
   "source": [
    "5*(3+10/11)-(50+1/3)+2**(0.5*22)-7/33+2"
   ]
  },
  {
   "cell_type": "markdown",
   "metadata": {},
   "source": [
    "## 2.2. Types of numbers\n",
    "\n",
    "You may have noticed in the section above that some of your arithmetic problems gave answers with decimal points, while others were evaluated without a decimal point. This is because Python has two different categories for handling numbers of different types:\n",
    "1. int (an integer; never has a decimal point)\n",
    "2. float (integer or not; always has a decimal point)\n",
    "\n",
    "You can use the \"type\" function below to reveal how Python has categorized a given number."
   ]
  },
  {
   "cell_type": "code",
   "execution_count": null,
   "metadata": {},
   "outputs": [],
   "source": [
    "type(3)"
   ]
  },
  {
   "cell_type": "code",
   "execution_count": null,
   "metadata": {},
   "outputs": [],
   "source": [
    "type(3.14)"
   ]
  },
  {
   "cell_type": "markdown",
   "metadata": {},
   "source": [
    "Python has its own rules for when it decides to output an int vs. a float. Run the cells below to explore this behavior. "
   ]
  },
  {
   "cell_type": "code",
   "execution_count": 19,
   "metadata": {},
   "outputs": [
    {
     "data": {
      "text/plain": [
       "30"
      ]
     },
     "execution_count": 19,
     "metadata": {},
     "output_type": "execute_result"
    }
   ],
   "source": [
    "10 * 3"
   ]
  },
  {
   "cell_type": "code",
   "execution_count": 20,
   "metadata": {},
   "outputs": [
    {
     "data": {
      "text/plain": [
       "30.0"
      ]
     },
     "execution_count": 20,
     "metadata": {},
     "output_type": "execute_result"
    }
   ],
   "source": [
    "10 * 3.0"
   ]
  },
  {
   "cell_type": "code",
   "execution_count": 21,
   "metadata": {},
   "outputs": [
    {
     "data": {
      "text/plain": [
       "3.3333333333333335"
      ]
     },
     "execution_count": 21,
     "metadata": {},
     "output_type": "execute_result"
    }
   ],
   "source": [
    "10 / 3"
   ]
  },
  {
   "cell_type": "markdown",
   "metadata": {},
   "source": [
    "Conveniently, Python is built to understand scientific notation as well. Just use the letter e in between the number of interest and the power of ten; the result will be a float. Run the cell below to demonstrate to yourself how this works."
   ]
  },
  {
   "cell_type": "code",
   "execution_count": 22,
   "metadata": {},
   "outputs": [
    {
     "data": {
      "text/plain": [
       "120.0"
      ]
     },
     "execution_count": 22,
     "metadata": {},
     "output_type": "execute_result"
    }
   ],
   "source": [
    "1.2e2"
   ]
  },
  {
   "cell_type": "markdown",
   "metadata": {},
   "source": [
    "# 3. Names\n",
    "In natural language, we have terminology that lets us quickly reference very complicated concepts.  We don't say, \"That's a large mammal with brown fur and sharp teeth!\"  Instead, we just say, \"Bear!\"\n",
    "\n",
    "Similarly, an effective strategy for writing code is to define names for data as we compute it, like a lawyer would define terms for complex ideas at the start of a legal document to simplify the rest of the writing.\n",
    "\n",
    "In Python, we do this with *assignment statements*. An assignment statement has a name on the left side of an `=` sign and an expression to be evaluated on the right."
   ]
  },
  {
   "cell_type": "code",
   "execution_count": 6,
   "metadata": {},
   "outputs": [],
   "source": [
    "ten = 3 * 2 + 4"
   ]
  },
  {
   "cell_type": "markdown",
   "metadata": {},
   "source": [
    "When you run that cell, Python first computes the value of the expression on the right-hand side, `3 * 2 + 4`, which is the number 10.  Then it assigns that value to the name `ten`.  At that point, the code in the cell is done running.\n",
    "\n",
    "After you run that cell, the value 10 is bound to the name `ten`:"
   ]
  },
  {
   "cell_type": "code",
   "execution_count": 7,
   "metadata": {},
   "outputs": [
    {
     "data": {
      "text/plain": [
       "10"
      ]
     },
     "execution_count": 7,
     "metadata": {},
     "output_type": "execute_result"
    }
   ],
   "source": [
    "ten"
   ]
  },
  {
   "cell_type": "markdown",
   "metadata": {},
   "source": [
    "The statement `ten = 3 * 2 + 4` is not asserting that `ten` is already equal to `3 * 2 + 4`, as we might expect by analogy with math notation.  Rather, that line of code changes what `ten` means; it now refers to the value 10, whereas before it meant nothing at all.\n",
    "\n",
    "If the designers of Python had been ruthlessly pedantic, they might have made us write\n",
    "\n",
    "    define the name ten to hereafter have the value of 3 * 2 + 4 \n",
    "\n",
    "instead.  You will probably appreciate the brevity of \"`=`\"!  But keep in mind that this is the real meaning.\n",
    "\n",
    "Try writing code that uses a name (like `eleven`) that hasn't been assigned to anything.  You'll see an error!"
   ]
  },
  {
   "cell_type": "code",
   "execution_count": 8,
   "metadata": {},
   "outputs": [
    {
     "ename": "NameError",
     "evalue": "name 'hat' is not defined",
     "output_type": "error",
     "traceback": [
      "\u001b[1;31m---------------------------------------------------------------------------\u001b[0m",
      "\u001b[1;31mNameError\u001b[0m                                 Traceback (most recent call last)",
      "\u001b[1;32m<ipython-input-8-6ecdffcab8b9>\u001b[0m in \u001b[0;36m<module>\u001b[1;34m\u001b[0m\n\u001b[1;32m----> 1\u001b[1;33m \u001b[0mhat\u001b[0m\u001b[1;33m\u001b[0m\u001b[1;33m\u001b[0m\u001b[0m\n\u001b[0m",
      "\u001b[1;31mNameError\u001b[0m: name 'hat' is not defined"
     ]
    }
   ],
   "source": [
    "hat"
   ]
  },
  {
   "cell_type": "markdown",
   "metadata": {},
   "source": [
    "A common pattern in Jupyter notebooks is to assign a value to a name and then immediately evaluate the name in the last line in the cell so that the value is displayed as output. "
   ]
  },
  {
   "cell_type": "code",
   "execution_count": 23,
   "metadata": {},
   "outputs": [
    {
     "data": {
      "text/plain": [
       "3.1415929203539825"
      ]
     },
     "execution_count": 23,
     "metadata": {},
     "output_type": "execute_result"
    }
   ],
   "source": [
    "close_to_pi = 355/113\n",
    "close_to_pi"
   ]
  },
  {
   "cell_type": "markdown",
   "metadata": {},
   "source": [
    "Another common pattern is that a series of lines in a single cell will build up a complex computation in stages, naming the intermediate results."
   ]
  },
  {
   "cell_type": "code",
   "execution_count": 24,
   "metadata": {},
   "outputs": [
    {
     "data": {
      "text/plain": [
       "20160"
      ]
     },
     "execution_count": 24,
     "metadata": {},
     "output_type": "execute_result"
    }
   ],
   "source": [
    "semimonthly_salary = 840\n",
    "monthly_salary = 2 * semimonthly_salary\n",
    "number_of_months_in_a_year = 12\n",
    "yearly_salary = number_of_months_in_a_year * monthly_salary\n",
    "yearly_salary"
   ]
  },
  {
   "cell_type": "markdown",
   "metadata": {},
   "source": [
    "Names in Python can have letters (upper- and lower-case letters are both okay and count as different letters), underscores, and numbers.  The first character can't be a number (otherwise a name might look like a number).  And names can't contain spaces, since spaces are used to separate pieces of code from each other.\n",
    "\n",
    "Other than those rules, what you name something doesn't matter *to Python*.  For example, this cell does the same thing as the above cell, except everything has a different name:"
   ]
  },
  {
   "cell_type": "code",
   "execution_count": 9,
   "metadata": {},
   "outputs": [
    {
     "data": {
      "text/plain": [
       "20160"
      ]
     },
     "execution_count": 9,
     "metadata": {},
     "output_type": "execute_result"
    }
   ],
   "source": [
    "a = 840\n",
    "b = 2 * a\n",
    "c = 12\n",
    "d = c * b\n",
    "d"
   ]
  },
  {
   "cell_type": "markdown",
   "metadata": {},
   "source": [
    "**However**, names are very important for making your code *readable* to yourself and others.  The cell above is shorter, but it's totally useless without an explanation of what it does."
   ]
  },
  {
   "cell_type": "markdown",
   "metadata": {},
   "source": [
    "Assign the name `seconds_in_a_decade` to the number of seconds between midnight January 1, 2010 and midnight January 1, 2020. Note that there are two leap years in this span of a decade, and that a leap year has 366 days instead of 365. "
   ]
  },
  {
   "cell_type": "code",
   "execution_count": 10,
   "metadata": {},
   "outputs": [
    {
     "data": {
      "text/plain": [
       "315532800"
      ]
     },
     "execution_count": 10,
     "metadata": {},
     "output_type": "execute_result"
    }
   ],
   "source": [
    "# Change the next line \n",
    "# so that it computes the number of seconds in a decade \n",
    "# and assigns that number the name, seconds_in_a_decade.\n",
    "\n",
    "seconds_in_a_decade = (2*366+8*365)*24*60*60\n",
    "\n",
    "# We've put this line in this cell \n",
    "# so that it will print the value you've given to seconds_in_a_decade when you run it.  \n",
    "# You don't need to change this.\n",
    "\n",
    "seconds_in_a_decade"
   ]
  },
  {
   "cell_type": "markdown",
   "metadata": {},
   "source": [
    "## 3.1. Comments\n",
    "You may have noticed this line in the cell above:\n",
    "\n",
    "    # You don't need to change this.\n",
    "    \n",
    "This is called a *comment*. It doesn't make anything happen in Python; Python ignores anything on a line after a `#`.  Instead, it's there to communicate something about the code to you, the human reader. Comments are extremely useful. \n",
    "\n",
    "\n",
    "<img src=\"http://imgs.xkcd.com/comics/future_self.png\">\n",
    "Source: http://imgs.xkcd.com/comics/future_self.png"
   ]
  },
  {
   "cell_type": "markdown",
   "metadata": {},
   "source": [
    "# 4. Calling functions\n",
    "\n",
    "The most common way to combine or manipulate values in Python is by calling functions. Python comes with many built-in functions that perform common operations.\n",
    "\n",
    "For example, the `abs` function takes a single number as its argument and returns the absolute value of that number.  The absolute value of a number is its distance from 0 on the number line, so `abs(5)` is 5 and `abs(-5)` is also 5."
   ]
  },
  {
   "cell_type": "code",
   "execution_count": 11,
   "metadata": {},
   "outputs": [
    {
     "data": {
      "text/plain": [
       "5"
      ]
     },
     "execution_count": 11,
     "metadata": {},
     "output_type": "execute_result"
    }
   ],
   "source": [
    "abs(5)"
   ]
  },
  {
   "cell_type": "code",
   "execution_count": 12,
   "metadata": {},
   "outputs": [
    {
     "data": {
      "text/plain": [
       "5"
      ]
     },
     "execution_count": 12,
     "metadata": {},
     "output_type": "execute_result"
    }
   ],
   "source": [
    "abs(-5)"
   ]
  },
  {
   "cell_type": "markdown",
   "metadata": {},
   "source": [
    "Practice applying your understanding of the absolute value function above on the problem below.\n",
    "\n",
    "Chunhua is on the corner of 7th Avenue and 42nd Street in Midtown Manhattan, and she wants to know far she'd have to walk to get to Gramercy School on the corner of 10th Avenue and 34th Street.\n",
    "\n",
    "She can't cut across blocks diagonally, since there are buildings in the way.  She has to walk along the sidewalks, so she'd have to walk 3 avenues (long blocks) and 8 streets (short blocks).  In terms of the given numbers, she computed 3 as the difference between 7 and 10, *in absolute value*, and 8 similarly.  \n",
    "\n",
    "Chunhua also knows that blocks in Manhattan are all about 80m by 274m (avenues are farther apart than streets).  So in total, she'd have to walk $(80 \\times |42 - 34| + 274 \\times |7 - 10|)$ meters to get to the park.\n",
    "\n",
    "Fill in the line `num_avenues_away = ...` in the next cell so that the cell calculates the distance Chunhua must walk and gives it the name `manhattan_distance`.  Everything else has been filled in for you.  **Use the `abs` function.**"
   ]
  },
  {
   "cell_type": "code",
   "execution_count": 13,
   "metadata": {},
   "outputs": [
    {
     "data": {
      "text/plain": [
       "1462"
      ]
     },
     "execution_count": 13,
     "metadata": {},
     "output_type": "execute_result"
    }
   ],
   "source": [
    "# Here's the number of streets away:\n",
    "num_streets_away = abs(42-34)\n",
    "\n",
    "# Compute the number of avenues away in a similar way:\n",
    "num_avenues_away = abs(7-10)\n",
    "\n",
    "street_length_m = 80\n",
    "avenue_length_m = 274\n",
    "\n",
    "# Now we compute the total distance Chunhua must walk.\n",
    "manhattan_distance = street_length_m*num_streets_away + avenue_length_m*num_avenues_away\n",
    "\n",
    "# We've included this line so that you see the distance you've computed \n",
    "# when you run this cell.  \n",
    "# You don't need to change it, but you can if you want.\n",
    "manhattan_distance"
   ]
  },
  {
   "cell_type": "markdown",
   "metadata": {},
   "source": [
    "##### Multiple arguments\n",
    "Some functions take multiple arguments, separated by commas. For example, the built-in `max` function returns the maximum argument passed to it."
   ]
  },
  {
   "cell_type": "code",
   "execution_count": 14,
   "metadata": {},
   "outputs": [
    {
     "data": {
      "text/plain": [
       "4"
      ]
     },
     "execution_count": 14,
     "metadata": {},
     "output_type": "execute_result"
    }
   ],
   "source": [
    "max(2, -3, 4, -5)"
   ]
  },
  {
   "cell_type": "markdown",
   "metadata": {},
   "source": [
    "## 4.1. Understanding nested expressions\n",
    "Function calls and arithmetic expressions can themselves contain expressions.  You saw an example in the last question:\n",
    "\n",
    "    abs(42-34)\n",
    "\n",
    "has 2 number expressions in a subtraction expression in a function call expression.  And you probably wrote something like `abs(7-10)` to compute `num_avenues_away`.\n",
    "\n",
    "Nested expressions can turn into complicated-looking code. However, the way in which complicated expressions break down is very regular.\n",
    "\n",
    "Suppose we are interested in heights that are very unusual.  We'll say that a height is unusual to the extent that it's far away on the number line from the average human height.  [An estimate](http://press.endocrine.org/doi/full/10.1210/jcem.86.9.7875?ck=nck&) of the average adult human height (averaging, we hope, over all humans on Earth today) is 1.688 meters.\n",
    "\n",
    "So if Kayla is 1.21 meters tall, then her height is $|1.21 - 1.688|$, or $.478$, meters away from the average.  \n",
    "\n",
    "Here's how we'd write that in one line of Python code:"
   ]
  },
  {
   "cell_type": "code",
   "execution_count": 15,
   "metadata": {},
   "outputs": [
    {
     "data": {
      "text/plain": [
       "0.478"
      ]
     },
     "execution_count": 15,
     "metadata": {},
     "output_type": "execute_result"
    }
   ],
   "source": [
    "abs(1.21 - 1.688)"
   ]
  },
  {
   "cell_type": "markdown",
   "metadata": {},
   "source": [
    "What's going on here?  `abs` takes just one argument, so the stuff inside the parentheses is all part of that *single argument*.  Specifically, the argument is the value of the expression `1.21 - 1.688`.  The value of that expression is `-.478`.  That value is the argument to `abs`.  The absolute value of that is `.478`, so `.478` is the value of the full expression `abs(1.21 - 1.688)`.\n",
    "\n",
    "Picture simplifying the expression in several steps:\n",
    "\n",
    "1. `abs(1.21 - 1.688)`\n",
    "2. `abs(-.478)`\n",
    "3. `.478`\n",
    "\n",
    "In fact, that's basically what Python does to compute the value of the expression."
   ]
  },
  {
   "cell_type": "markdown",
   "metadata": {},
   "source": [
    "Say that Paola's height is 1.76 meters.  In the next cell, use `abs` to compute the absolute value of the difference between Paola's height and the average human height.  Give that value the name `paola_distance_from_average_m`."
   ]
  },
  {
   "cell_type": "code",
   "execution_count": 16,
   "metadata": {},
   "outputs": [
    {
     "data": {
      "text/plain": [
       "0.07200000000000006"
      ]
     },
     "execution_count": 16,
     "metadata": {},
     "output_type": "execute_result"
    }
   ],
   "source": [
    "# Replace the ... with an expression \n",
    "# to compute the absolute value \n",
    "# of the difference between Paola's height (1.76m) and the average human height.\n",
    "paola_distance_from_average_m = abs(1.76-1.688)\n",
    "\n",
    "# Again, we've written this here \n",
    "# so that the distance you compute will get printed \n",
    "# when you run this cell.\n",
    "paola_distance_from_average_m"
   ]
  },
  {
   "cell_type": "markdown",
   "metadata": {},
   "source": [
    "Now say that we want to compute the more unusual of the two heights.  We'll use the function `max`, which (again) takes two numbers as arguments and returns the larger of the two arguments.  Combining that with the `abs` function, we can compute the larger distance from average among the two heights:"
   ]
  },
  {
   "cell_type": "code",
   "execution_count": 17,
   "metadata": {},
   "outputs": [
    {
     "name": "stdout",
     "output_type": "stream",
     "text": [
      "The larger distance from the average height among these two people is 0.478 meters.\n"
     ]
    }
   ],
   "source": [
    "# Just read and run this cell.\n",
    "\n",
    "kayla_height_m = 1.21\n",
    "paola_height_m = 1.76\n",
    "average_adult_height_m = 1.688\n",
    "\n",
    "# The larger distance from the average human height, among the two heights:\n",
    "larger_distance_m = max(abs(kayla_height_m - average_adult_height_m), abs(paola_height_m - average_adult_height_m))\n",
    "\n",
    "# Print out our results in a nice readable format:\n",
    "print(\"The larger distance from the average height among these two people is\", larger_distance_m, \"meters.\")"
   ]
  },
  {
   "cell_type": "markdown",
   "metadata": {},
   "source": [
    "The line where `larger_distance_m` is computed looks complicated, but we can break it down into simpler components just like we did before.\n",
    "\n",
    "The basic recipe is to repeatedly simplify small parts of the expression:\n",
    "* **Basic expressions:** Start with expressions whose values we know, like names or numbers.\n",
    "    - Examples: `paola_height_m` or `5`.\n",
    "* **Find the next simplest group of expressions:** Look for basic expressions that are directly connected to each other. This can be by arithmetic or as arguments to a function call. \n",
    "    - Example: `kayla_height_m - average_adult_height_m`.\n",
    "* **Evaluate that group:** Evaluate the arithmetic expression or function call. Use the value computed to replace the group of expressions.  \n",
    "    - Example: `kayla_height_m - average_adult_height_m` becomes `-.478`.\n",
    "* **Repeat:** Continue this process, using the value of the previously-evaluated expression as a new basic expression. Stop when we've evaluated the entire expression.\n",
    "    - Example: `abs(-.478)` becomes `.478`, and `max(.478, .072)` becomes `.478`."
   ]
  },
  {
   "cell_type": "markdown",
   "metadata": {},
   "source": [
    "Ok, your turn. Given the heights of three basketball players, write an expression that computes the smallest difference between any of the three heights. Your expression shouldn't have any numbers in it, only function calls and the names `klay`, `steph`, and `kevin`. Give the value of your expression the name `min_height_difference`."
   ]
  },
  {
   "cell_type": "code",
   "execution_count": 19,
   "metadata": {},
   "outputs": [
    {
     "data": {
      "text/plain": [
       "0.050000000000000266"
      ]
     },
     "execution_count": 19,
     "metadata": {},
     "output_type": "execute_result"
    }
   ],
   "source": [
    "# The three players' heights, in meters:\n",
    "klay =  2.01 # Klay Thompson is 6'7\"\n",
    "steph = 1.91 # Steph Curry is 6'3\"\n",
    "kevin = 2.06 # Kevin Durant is officially 6'9\"\n",
    "\n",
    "# We'd like to look at all 3 pairs of heights, \n",
    "# compute the absolute difference between each pair, \n",
    "# and then find the smallest of those 3 absolute differences.  \n",
    "# This is left to you!  \n",
    "# If you're stuck, try computing the value for each step of the process \n",
    "# (like the difference between Klay's heigh and Steph's height) \n",
    "# on a separate line and giving it a name (like klay_steph_height_diff).\n",
    "min_height_difference = min(abs(klay-steph),abs(klay-kevin),abs(steph-kevin))\n",
    "\n",
    "min_height_difference"
   ]
  },
  {
   "cell_type": "markdown",
   "metadata": {},
   "source": [
    "## 4.2. Defining your own functions\n",
    "\n",
    "You don't have to make do with the built-in functions Python supplies; you can also define your own! Let's write a very simple function that converts a proportion to a percentage by multiplying it by 100.  For example, the value of `to_percentage(.5)` should be the number 50 (no percent sign).\n",
    "\n",
    "A function definition has a few parts.\n",
    "\n",
    "##### `def`\n",
    "It always starts with `def` (short for **def**ine):\n",
    "\n",
    "    def\n",
    "\n",
    "##### Name\n",
    "Next comes the name of the function.  Like other names we've defined, it can't start with a number or contain spaces. Let's call our function `to_percentage`:\n",
    "    \n",
    "    def to_percentage\n",
    "\n",
    "##### Signature\n",
    "Next comes something called the *signature* of the function.  This tells Python how many arguments your function should have, and what names you'll use to refer to those arguments in the function's code.  A function can have any number of arguments (including 0!). \n",
    "\n",
    "`to_percentage` should take one argument, and we'll call that argument `proportion` since it should be a proportion.\n",
    "\n",
    "    def to_percentage(proportion)\n",
    "    \n",
    "If we want our function to take more than one argument, we add a comma between each argument name.\n",
    "\n",
    "We put a colon after the signature to tell Python it's over. If you're getting a syntax error after defining a function, check to make sure you remembered the colon!\n",
    "\n",
    "    def to_percentage(proportion):\n",
    "\n",
    "##### Documentation\n",
    "Functions can do complicated things, so you should write an explanation of what your function does.  For small functions, this is less important, but it's a good habit to learn from the start.  Conventionally, Python functions are documented by writing an **indented** triple-quoted string:\n",
    "\n",
    "    def to_percentage(proportion):\n",
    "        \"\"\"Converts a proportion to a percentage.\"\"\"\n",
    "    \n",
    "    \n",
    "##### Body\n",
    "Now we start writing code that runs when the function is called.  This is called the *body* of the function and every line **must be indented with a tab**.  Any lines that are *not* indented and left-aligned with the def statement are considered outside the function. \n",
    "\n",
    "Some notes about the body of the function:\n",
    "- We can write any code that we would write anywhere else.  \n",
    "- We use the arguments defined in the function signature. We can do this because we assume that when we call the function, values are already assigned to those arguments.\n",
    "- We generally avoid referencing variables defined *outside* the function.\n",
    "\n",
    "\n",
    "Now, let's give a name to the number we multiply a proportion by to get a percentage:\n",
    "\n",
    "    def to_percentage(proportion):\n",
    "        \"\"\"Converts a proportion to a percentage.\"\"\"\n",
    "        factor = 100\n",
    "\n",
    "##### `return`\n",
    "The special instruction `return` is part of the function's body and tells Python to make the value of the function call equal to whatever comes right after `return`.  We want the value of `to_percentage(.5)` to be the proportion .5 times the factor 100, so we write:\n",
    "\n",
    "    def to_percentage(proportion):\n",
    "        \"\"\"Converts a proportion to a percentage.\"\"\"\n",
    "        factor = 100\n",
    "        return proportion * factor\n",
    "        \n",
    "`return` only makes sense in the context of a function, and **can never be used outside of a function**. `return` is always the last line of the function because Python stops executing the body of a function once it hits a `return` statement.\n",
    "\n",
    "*Note:*  `return` inside a function tells Python what value the function evaluates to. However, there are other functions, like `print`, that have no `return` value. For example, `print` simply prints a certain value out to the console. \n",
    "\n",
    "`return` and `print` are **very** different. \n",
    "\n",
    "Define `to_percentage` in the cell below.  Call your function to convert the proportion .2 to a percentage.  Name that percentage `twenty_percent`."
   ]
  },
  {
   "cell_type": "code",
   "execution_count": 21,
   "metadata": {},
   "outputs": [
    {
     "data": {
      "text/plain": [
       "20.0"
      ]
     },
     "execution_count": 21,
     "metadata": {},
     "output_type": "execute_result"
    }
   ],
   "source": [
    "def to_percentage(proportion):\n",
    "    \"\"\" Converts a proportion to a percentage. \"\"\"\n",
    "    factor = 100\n",
    "    return proportion*factor\n",
    "\n",
    "twenty_percent = to_percentage(.2)\n",
    "twenty_percent"
   ]
  },
  {
   "cell_type": "markdown",
   "metadata": {},
   "source": [
    "Like built-in functions you've used in previous labs (`max`, `abs`, etc.), you can use named values as arguments to your function.\n",
    "\n",
    "Use `to_percentage` again to convert the proportion named `a_proportion` (defined below) to a percentage called `a_percentage`.\n",
    "\n",
    "*Note:* You don't need to define `to_percentage` again!  Like other named values, functions stick around after you define them."
   ]
  },
  {
   "cell_type": "code",
   "execution_count": 22,
   "metadata": {},
   "outputs": [
    {
     "data": {
      "text/plain": [
       "70.71067811865476"
      ]
     },
     "execution_count": 22,
     "metadata": {},
     "output_type": "execute_result"
    }
   ],
   "source": [
    "a_proportion = 2**(.5) / 2\n",
    "a_percentage = to_percentage(a_proportion)\n",
    "a_percentage"
   ]
  },
  {
   "cell_type": "markdown",
   "metadata": {},
   "source": [
    "Here's something important about functions: the names assigned *within* a function body are only accessible within the function body. Once the function has returned, those names are gone.  So even though you defined `factor = 100` inside  the body of the `to_percentage` function up above and then called `to_percentage`, you cannot refer to `factor` anywhere except inside the body of `to_percentage`:"
   ]
  },
  {
   "cell_type": "code",
   "execution_count": 23,
   "metadata": {},
   "outputs": [
    {
     "ename": "NameError",
     "evalue": "name 'factor' is not defined",
     "output_type": "error",
     "traceback": [
      "\u001b[1;31m---------------------------------------------------------------------------\u001b[0m",
      "\u001b[1;31mNameError\u001b[0m                                 Traceback (most recent call last)",
      "\u001b[1;32m<ipython-input-23-a219be0dab32>\u001b[0m in \u001b[0;36m<module>\u001b[1;34m\u001b[0m\n\u001b[0;32m      1\u001b[0m \u001b[1;31m# You should see an error when you run this.  (If you don't, you might\u001b[0m\u001b[1;33m\u001b[0m\u001b[1;33m\u001b[0m\u001b[1;33m\u001b[0m\u001b[0m\n\u001b[0;32m      2\u001b[0m \u001b[1;31m# have defined factor somewhere above.)\u001b[0m\u001b[1;33m\u001b[0m\u001b[1;33m\u001b[0m\u001b[1;33m\u001b[0m\u001b[0m\n\u001b[1;32m----> 3\u001b[1;33m \u001b[0mfactor\u001b[0m\u001b[1;33m\u001b[0m\u001b[1;33m\u001b[0m\u001b[0m\n\u001b[0m",
      "\u001b[1;31mNameError\u001b[0m: name 'factor' is not defined"
     ]
    }
   ],
   "source": [
    "# You should see an error when you run this.  (If you don't, you might\n",
    "# have defined factor somewhere above.)\n",
    "factor"
   ]
  },
  {
   "cell_type": "markdown",
   "metadata": {},
   "source": [
    "Just as you write a series of lines to build up a complex computation, it's useful to define a series of small functions that build on each other.  Since you can write any code inside a function's body, you can call other functions you've written.\n",
    "\n",
    "Functions can also encapsulate code that *does an action* rather than computing a value.  For example, if you call `print` inside a function, and then call that function, something will get printed. Keep in mind, however, that `print` is not the same as `return`. Even if you `print` a variable's value using a function, if you do not `return` it, you can not use this variable after the function is called. Let's look at an example of another function that prints a value but does not return it. Run the following two cells:"
   ]
  },
  {
   "cell_type": "code",
   "execution_count": 25,
   "metadata": {},
   "outputs": [],
   "source": [
    "def print_number_five():\n",
    "    print(5)"
   ]
  },
  {
   "cell_type": "code",
   "execution_count": 26,
   "metadata": {},
   "outputs": [
    {
     "name": "stdout",
     "output_type": "stream",
     "text": [
      "5\n"
     ]
    }
   ],
   "source": [
    "print_number_five()"
   ]
  },
  {
   "cell_type": "markdown",
   "metadata": {},
   "source": [
    "However, if we try to use the output of `print_number_five()`, we see that we get an error when we try to add the number 5 to it!"
   ]
  },
  {
   "cell_type": "code",
   "execution_count": 27,
   "metadata": {},
   "outputs": [
    {
     "name": "stdout",
     "output_type": "stream",
     "text": [
      "5\n"
     ]
    },
    {
     "ename": "TypeError",
     "evalue": "unsupported operand type(s) for +: 'NoneType' and 'int'",
     "output_type": "error",
     "traceback": [
      "\u001b[1;31m---------------------------------------------------------------------------\u001b[0m",
      "\u001b[1;31mTypeError\u001b[0m                                 Traceback (most recent call last)",
      "\u001b[1;32m<ipython-input-27-a1be8ba5b336>\u001b[0m in \u001b[0;36m<module>\u001b[1;34m\u001b[0m\n\u001b[0;32m      1\u001b[0m \u001b[0mprint_number_five_output\u001b[0m \u001b[1;33m=\u001b[0m \u001b[0mprint_number_five\u001b[0m\u001b[1;33m(\u001b[0m\u001b[1;33m)\u001b[0m\u001b[1;33m\u001b[0m\u001b[1;33m\u001b[0m\u001b[0m\n\u001b[1;32m----> 2\u001b[1;33m \u001b[0mprint_number_five_output\u001b[0m \u001b[1;33m+\u001b[0m \u001b[1;36m5\u001b[0m\u001b[1;33m\u001b[0m\u001b[1;33m\u001b[0m\u001b[0m\n\u001b[0m",
      "\u001b[1;31mTypeError\u001b[0m: unsupported operand type(s) for +: 'NoneType' and 'int'"
     ]
    }
   ],
   "source": [
    "print_number_five_output = print_number_five()\n",
    "print_number_five_output + 5"
   ]
  },
  {
   "cell_type": "markdown",
   "metadata": {},
   "source": [
    "It may seem that `print_number_five()` is returning a value, 5. In reality, it just displays the number 5 to you without giving you the actual value! If your function prints out a value without returning it and you try to use that value, you will run into errors, so be careful!"
   ]
  },
  {
   "cell_type": "markdown",
   "metadata": {},
   "source": [
    "# 5. Text\n",
    "Programming doesn't just concern numbers. Text is one of the most common data types used in programs. \n",
    "\n",
    "Text is represented by a **string value** in Python. The word \"string\" is a programming term for a sequence of characters. A string might contain a single character, a word, a sentence, or a whole book.\n",
    "\n",
    "To distinguish text data from actual code, we demarcate strings by putting quotation marks around them. Single quotes (`'`) and double quotes (`\"`) are both valid, but the types of opening and closing quotation marks must match. The contents can be any sequence of characters, including numbers and symbols. \n",
    "\n",
    "We've seen strings before in `print` statements.  Below, two different strings are passed as arguments to the `print` function."
   ]
  },
  {
   "cell_type": "code",
   "execution_count": 28,
   "metadata": {},
   "outputs": [
    {
     "name": "stdout",
     "output_type": "stream",
     "text": [
      "I <3 Computer Programming\n"
     ]
    }
   ],
   "source": [
    "print(\"I <3\", 'Computer Programming')"
   ]
  },
  {
   "cell_type": "markdown",
   "metadata": {},
   "source": [
    "Just as names can be given to numbers, names can be given to string values.  The names and strings aren't required to be similar in any way. Any name can be assigned to any string."
   ]
  },
  {
   "cell_type": "code",
   "execution_count": null,
   "metadata": {
    "scrolled": false
   },
   "outputs": [],
   "source": [
    "one = 'two'\n",
    "plus = '*'\n",
    "print(one, plus, one)"
   ]
  },
  {
   "cell_type": "markdown",
   "metadata": {},
   "source": [
    "Yuri Gagarin was the first person to travel through outer space.  When he emerged from his capsule upon landing on Earth, he [reportedly](https://en.wikiquote.org/wiki/Yuri_Gagarin) had the following conversation with a woman and girl who saw the landing:\n",
    "\n",
    "    The woman asked: \"Can it be that you have come from outer space?\"\n",
    "    Gagarin replied: \"As a matter of fact, I have!\"\n",
    "\n",
    "The cell below contains unfinished code.  Fill in the `...`s so that it prints out this conversation *exactly* as it appears above."
   ]
  },
  {
   "cell_type": "code",
   "execution_count": 30,
   "metadata": {},
   "outputs": [
    {
     "name": "stdout",
     "output_type": "stream",
     "text": [
      "The woman asked: \"Can it be that you have come from outer space?\"\n",
      "Gagarin replied: \"As a matter of fact, I have!\"\n"
     ]
    }
   ],
   "source": [
    "woman_asking = \"The woman asked:\"\n",
    "woman_quote = '\"Can it be that you have come from outer space?\"'\n",
    "gagarin_reply = 'Gagarin replied:'\n",
    "gagarin_quote = '\"As a matter of fact, I have!\"'\n",
    "\n",
    "print(woman_asking, woman_quote)\n",
    "print(gagarin_reply, gagarin_quote)"
   ]
  },
  {
   "cell_type": "markdown",
   "metadata": {},
   "source": [
    "## 5.1. String methods\n",
    "Strings can be transformed using **methods**. Methods and functions are not technically the same thing, but we'll be using them interchangeably for the purposes of this course.\n",
    "\n",
    "Here's a sketch of how to call methods on a string:\n",
    "\n",
    "    <expression that evaluates to a string>.<method name>(<argument>, <argument>, ...)\n",
    "    \n",
    "One example of a string method is `replace`, which replaces all instances of some part of the original string (or a *substring*) with a new string. \n",
    "\n",
    "    <original string>.replace(<old substring>, <new substring>)\n",
    "    \n",
    "`replace` returns (evaluates to) a new string, leaving the original string unchanged.\n",
    "    \n",
    "Try to predict the output of the examples below, then run the cells!"
   ]
  },
  {
   "cell_type": "code",
   "execution_count": null,
   "metadata": {},
   "outputs": [],
   "source": [
    "# Replace one letter\n",
    "'Hello'.replace('o', 'a')"
   ]
  },
  {
   "cell_type": "code",
   "execution_count": null,
   "metadata": {},
   "outputs": [],
   "source": [
    "# Calling replace on the output of another call to replace\n",
    "'train'.replace('t', 'ing').replace('in', 'de')"
   ]
  },
  {
   "cell_type": "markdown",
   "metadata": {},
   "source": [
    "Use `replace` to transform the string `'hitchhiker'` into `'matchmaker'`. Assign your result to `new_word`."
   ]
  },
  {
   "cell_type": "code",
   "execution_count": 31,
   "metadata": {},
   "outputs": [
    {
     "data": {
      "text/plain": [
       "'matchmaker'"
      ]
     },
     "execution_count": 31,
     "metadata": {},
     "output_type": "execute_result"
    }
   ],
   "source": [
    "new_word = 'hitchhiker'.replace('hi','ma')\n",
    "new_word"
   ]
  },
  {
   "cell_type": "markdown",
   "metadata": {},
   "source": [
    "There are many more string methods in Python, but most programmers don't memorize their names or how to use them.  In the \"real world,\" people usually just search the internet for documentation and examples. A complete [list of string methods](https://docs.python.org/3/library/stdtypes.html#string-methods) appears in the Python language documentation. [Stack Overflow](http://stackoverflow.com) has a huge database of answered questions that often demonstrate how to use these methods to achieve various ends."
   ]
  },
  {
   "cell_type": "markdown",
   "metadata": {},
   "source": [
    "## 5.2. Converting to and from strings\n",
    "Strings and numbers are different *types* of values, even when a string contains the digits of a number. For example, evaluating the following cell causes an error because an integer cannot be added to a string."
   ]
  },
  {
   "cell_type": "code",
   "execution_count": 32,
   "metadata": {},
   "outputs": [
    {
     "ename": "TypeError",
     "evalue": "unsupported operand type(s) for +: 'int' and 'str'",
     "output_type": "error",
     "traceback": [
      "\u001b[1;31m---------------------------------------------------------------------------\u001b[0m",
      "\u001b[1;31mTypeError\u001b[0m                                 Traceback (most recent call last)",
      "\u001b[1;32m<ipython-input-32-ea74adbd7634>\u001b[0m in \u001b[0;36m<module>\u001b[1;34m\u001b[0m\n\u001b[1;32m----> 1\u001b[1;33m \u001b[1;36m8\u001b[0m \u001b[1;33m+\u001b[0m \u001b[1;34m\"8\"\u001b[0m\u001b[1;33m\u001b[0m\u001b[1;33m\u001b[0m\u001b[0m\n\u001b[0m",
      "\u001b[1;31mTypeError\u001b[0m: unsupported operand type(s) for +: 'int' and 'str'"
     ]
    }
   ],
   "source": [
    "8 + \"8\""
   ]
  },
  {
   "cell_type": "markdown",
   "metadata": {},
   "source": [
    "However, there are built-in functions to convert numbers to strings and strings to numbers. Some of these built-in functions have restrictions on the type of argument they take:\n",
    "\n",
    "|Function |Description|\n",
    "|-|-|\n",
    "|`int`|Converts a string of digits or a float to an integer (\"int\") value|\n",
    "|`float`|Converts a string of digits (perhaps with a decimal point) or an int to a decimal (\"float\") value|\n",
    "|`str`|Converts any value to a string|\n",
    "\n",
    "Try to predict what data type and value `example` evaluates to, then run the cell."
   ]
  },
  {
   "cell_type": "code",
   "execution_count": 33,
   "metadata": {},
   "outputs": [
    {
     "name": "stdout",
     "output_type": "stream",
     "text": [
      "26.0\n",
      "This example returned a <class 'float'>!\n"
     ]
    }
   ],
   "source": [
    "example = 8 + int(\"10\") + float(\"8\")\n",
    "\n",
    "print(example)\n",
    "print(\"This example returned a \" + str(type(example)) + \"!\")"
   ]
  },
  {
   "cell_type": "markdown",
   "metadata": {},
   "source": [
    "Suppose you're writing a program that looks for dates in a text, and you want your program to find the amount of time that elapsed between two years it has identified.  It doesn't make sense to subtract two texts, but you can first convert the text containing the years into numbers.\n",
    "\n",
    "Finish the code below to compute the number of years that elapsed between `one_year` and `another_year`.  Don't just write the numbers `1618` and `1648` (or `30`); use a conversion function to turn the given text data into numbers."
   ]
  },
  {
   "cell_type": "code",
   "execution_count": 34,
   "metadata": {},
   "outputs": [
    {
     "data": {
      "text/plain": [
       "30"
      ]
     },
     "execution_count": 34,
     "metadata": {},
     "output_type": "execute_result"
    }
   ],
   "source": [
    "# Some text data:\n",
    "one_year = \"1618\"\n",
    "another_year = \"1648\"\n",
    "\n",
    "# Complete the next line.  Note that we can't just write:\n",
    "#   another_year - one_year\n",
    "# If you don't see why, try seeing what happens when you\n",
    "# write that here.\n",
    "difference = int(another_year)-int(one_year)\n",
    "difference"
   ]
  },
  {
   "cell_type": "markdown",
   "metadata": {},
   "source": [
    "## 5.3. Strings as function arguments\n",
    "\n",
    "String values, like numbers, can be arguments to functions and can be returned by functions. \n",
    "\n",
    "The function `len` (derived from the word \"length\") takes a single string as its argument and returns the number of characters (including spaces) in the string.\n",
    "\n",
    "Note that it doesn't count *words*. `len(\"one small step for man\")` evaluates to 22, not 5.\n",
    "\n",
    "Use `len` to find the number of characters in the long string in the next cell.  Characters include things like spaces and punctuation. Assign `sentence_length` to that number.\n",
    "\n",
    "(The string is the first sentence of the English translation of the French [Declaration of the Rights of Man](http://avalon.law.yale.edu/18th_century/rightsof.asp).)  "
   ]
  },
  {
   "cell_type": "code",
   "execution_count": 35,
   "metadata": {},
   "outputs": [
    {
     "data": {
      "text/plain": [
       "896"
      ]
     },
     "execution_count": 35,
     "metadata": {},
     "output_type": "execute_result"
    }
   ],
   "source": [
    "a_very_long_sentence = \"The representatives of the French people, organized as a National Assembly, believing that the ignorance, neglect, or contempt of the rights of man are the sole cause of public calamities and of the corruption of governments, have determined to set forth in a solemn declaration the natural, unalienable, and sacred rights of man, in order that this declaration, being constantly before all the members of the Social body, shall remind them continually of their rights and duties; in order that the acts of the legislative power, as well as those of the executive power, may be compared at any moment with the objects and purposes of all political institutions and may thus be more respected, and, lastly, in order that the grievances of the citizens, based hereafter upon simple and incontestable principles, shall tend to the maintenance of the constitution and redound to the happiness of all.\"\n",
    "sentence_length = len(a_very_long_sentence)\n",
    "sentence_length"
   ]
  },
  {
   "cell_type": "markdown",
   "metadata": {},
   "source": [
    "# 6. Importing code\n",
    "\n",
    "Most programming involves work that is very similar to work that has been done before.  Since writing code is time-consuming, it's good to rely on others' published code when you can.  Rather than copy-pasting, Python allows us to **import modules**. A module is a file with Python code that has defined variables and functions. By importing a module, we are able to use its code in our own notebook.\n",
    "\n",
    "Python includes many useful modules that are just an `import` away.  We'll look at the `math` module as a first example. The `math` module is extremely useful in computing mathematical expressions in Python. \n",
    "\n",
    "Suppose we want to very accurately compute the area of a circle with a radius of 5 meters.  For that, we need the constant $\\pi$, which is roughly 3.14.  Conveniently, the `math` module has `pi` defined for us:"
   ]
  },
  {
   "cell_type": "code",
   "execution_count": 36,
   "metadata": {},
   "outputs": [
    {
     "data": {
      "text/plain": [
       "78.53981633974483"
      ]
     },
     "execution_count": 36,
     "metadata": {},
     "output_type": "execute_result"
    }
   ],
   "source": [
    "import math\n",
    "radius = 5\n",
    "area_of_circle = radius**2 * math.pi\n",
    "area_of_circle"
   ]
  },
  {
   "cell_type": "markdown",
   "metadata": {},
   "source": [
    "In the code above, the line `import math` imports the math module. This statement creates a module and then assigns the name `math` to that module. We are now able to access any variables or functions defined within `math` by typing the name of the module followed by a dot, then followed by the name of the variable or function we want.\n",
    "\n",
    "    <module name>.<name>"
   ]
  },
  {
   "cell_type": "markdown",
   "metadata": {},
   "source": [
    "The module `math` also provides the name `e` for the base of the natural logarithm, which is roughly 2.71.  Compute $e^{\\pi}-\\pi$, giving it the name `near_twenty`."
   ]
  },
  {
   "cell_type": "code",
   "execution_count": 37,
   "metadata": {},
   "outputs": [
    {
     "data": {
      "text/plain": [
       "19.99909997918947"
      ]
     },
     "execution_count": 37,
     "metadata": {},
     "output_type": "execute_result"
    }
   ],
   "source": [
    "near_twenty = math.e**math.pi-math.pi\n",
    "near_twenty"
   ]
  },
  {
   "cell_type": "markdown",
   "metadata": {},
   "source": [
    "## 6.1. Accessing imported functions\n",
    "\n",
    "In the section above, you accessed variables within the `math` module. \n",
    "\n",
    "**Modules** also define **functions**.  For example, `math` provides the name `sin` for the sine function.  Having imported `math` already, we can write `math.sin(3)` to compute the sine of 3.  (Note that this sine function considers its argument to be in [radians](https://en.wikipedia.org/wiki/Radian), not degrees.  180 degrees are equivalent to $\\pi$ radians.)\n",
    "\n",
    "Compute the value of $\\sin(\\frac{\\pi}{4})$ using `sin` and `pi` from the `math` module.  Give the result the name `sine_of_pi_over_four`."
   ]
  },
  {
   "cell_type": "code",
   "execution_count": 4,
   "metadata": {},
   "outputs": [
    {
     "data": {
      "text/plain": [
       "0.7071067811865476"
      ]
     },
     "execution_count": 4,
     "metadata": {},
     "output_type": "execute_result"
    }
   ],
   "source": [
    "sine_of_pi_over_four = math.sin(math.pi/4)\n",
    "sine_of_pi_over_four"
   ]
  },
  {
   "cell_type": "markdown",
   "metadata": {},
   "source": [
    "For your reference, below are some more examples of functions from the `math` module.\n",
    "\n",
    "Notice how different functions take in different numbers of arguments. Often, the [documentation](https://docs.python.org/3/library/math.html) of the module will provide information on how many arguments are required for each function."
   ]
  },
  {
   "cell_type": "code",
   "execution_count": 5,
   "metadata": {},
   "outputs": [
    {
     "data": {
      "text/plain": [
       "3.0"
      ]
     },
     "execution_count": 5,
     "metadata": {},
     "output_type": "execute_result"
    }
   ],
   "source": [
    "# Calculating logarithms (the logarithm of 8 in base 2).\n",
    "# The result is 3 because 2 to the power of 3 is 8.\n",
    "math.log(8, 2)"
   ]
  },
  {
   "cell_type": "code",
   "execution_count": 6,
   "metadata": {},
   "outputs": [
    {
     "data": {
      "text/plain": [
       "2.23606797749979"
      ]
     },
     "execution_count": 6,
     "metadata": {},
     "output_type": "execute_result"
    }
   ],
   "source": [
    "# Calculating square roots.\n",
    "math.sqrt(5)"
   ]
  },
  {
   "cell_type": "markdown",
   "metadata": {},
   "source": [
    "There are various ways to import and access code from outside sources. The method we used above — `import <module_name>` — imports the entire module and requires that we use `<module_name>.<name>` to access its code. \n",
    "\n",
    "One variation is to rename the module we import. This is especially useful for modules with long names."
   ]
  },
  {
   "cell_type": "code",
   "execution_count": null,
   "metadata": {},
   "outputs": [],
   "source": [
    "# We can nickname math as something else, \n",
    "# if we don't want to type math\n",
    "import math as m\n",
    "m.log(m.pi)"
   ]
  },
  {
   "cell_type": "markdown",
   "metadata": {},
   "source": [
    "We can also import a specific constant or function instead of the entire module. Notice that you don't have to use the module name beforehand to reference that particular value. However, you do have to be careful about reassigning the names of the constants or functions to other values!"
   ]
  },
  {
   "cell_type": "code",
   "execution_count": 7,
   "metadata": {},
   "outputs": [
    {
     "name": "stdout",
     "output_type": "stream",
     "text": [
      "-1.0\n"
     ]
    },
    {
     "data": {
      "text/plain": [
       "1.1447298858494002"
      ]
     },
     "execution_count": 7,
     "metadata": {},
     "output_type": "execute_result"
    }
   ],
   "source": [
    "# Importing just cos and pi from math.\n",
    "# We don't have to use `math.` in front of cos or pi\n",
    "from math import cos, pi\n",
    "print(cos(pi))\n",
    "\n",
    "# We do have to use it in front of other functions from math, though\n",
    "math.log(pi)"
   ]
  },
  {
   "cell_type": "markdown",
   "metadata": {},
   "source": [
    "Or we can import every function and value from the entire module."
   ]
  },
  {
   "cell_type": "code",
   "execution_count": 39,
   "metadata": {},
   "outputs": [
    {
     "data": {
      "text/plain": [
       "1.1447298858494002"
      ]
     },
     "execution_count": 39,
     "metadata": {},
     "output_type": "execute_result"
    }
   ],
   "source": [
    "# Lastly, we can import everything from math using the *\n",
    "# Once again, we don't have to use 'math.' beforehand \n",
    "from math import *\n",
    "log(pi)"
   ]
  },
  {
   "cell_type": "markdown",
   "metadata": {},
   "source": [
    "Don't worry too much about which type of import to use. It's often a coding style choice left up to each programmer."
   ]
  },
  {
   "cell_type": "markdown",
   "metadata": {},
   "source": [
    "## 6.2. The NumPy module\n",
    "Another very useful module is the `numpy` module, which is often imported as `np` for short. "
   ]
  },
  {
   "cell_type": "code",
   "execution_count": 38,
   "metadata": {},
   "outputs": [],
   "source": [
    "import numpy as np"
   ]
  },
  {
   "cell_type": "markdown",
   "metadata": {},
   "source": [
    "### 6.2.1. Making arrays\n",
    "Computers are most useful when you can use a small amount of code to *do the same action* to *many different things*.\n",
    "\n",
    "For example, in the time it takes you to calculate the 18% tip on a restaurant bill, a laptop can calculate 18% tips for every restaurant bill paid by every human on Earth that day.  (That's if you're pretty fast at doing arithmetic in your head!)\n",
    "\n",
    "**Arrays** are how we put many values in one place so that we can operate on them as a group. For example, if `billions_of_numbers` is an array of numbers, the expression\n",
    "\n",
    "    .18 * billions_of_numbers\n",
    "\n",
    "gives a new array of numbers that contains the result of multiplying each number in `billions_of_numbers` by .18.  Arrays are not limited to numbers; we can also put all the words in a book into an array of strings.\n",
    "\n",
    "Concretely, an array is a **collection of values of the same type**, like a column in an Excel spreadsheet. \n",
    "\n",
    "The NumPy module is especially useful for handling arrays. Run this cell to see an example of how to create a numpy array:"
   ]
  },
  {
   "cell_type": "code",
   "execution_count": 10,
   "metadata": {},
   "outputs": [
    {
     "data": {
      "text/plain": [
       "array([ 0.125,  4.75 , -1.3  ])"
      ]
     },
     "execution_count": 10,
     "metadata": {},
     "output_type": "execute_result"
    }
   ],
   "source": [
    "np.array([0.125, 4.75, -1.3])"
   ]
  },
  {
   "cell_type": "markdown",
   "metadata": {},
   "source": [
    "Each value in an array (in the above case, the numbers 0.125, 4.75, and -1.3) is called an *element* of that array.\n",
    "\n",
    "Arrays themselves are also values, just like numbers and strings.  That means you can assign them to names or use them as arguments to functions. For example, `len(some_array)` returns the number of elements in `some_array`.\n",
    "\n",
    "Make an array containing the numbers 0, 1, -1, $\\pi$, and $e$, in that order.  Name it `interesting_numbers`.  "
   ]
  },
  {
   "cell_type": "code",
   "execution_count": 11,
   "metadata": {},
   "outputs": [
    {
     "data": {
      "text/plain": [
       "array([ 0.        ,  1.        , -1.        ,  3.14159265,  2.71828183])"
      ]
     },
     "execution_count": 11,
     "metadata": {},
     "output_type": "execute_result"
    }
   ],
   "source": [
    "interesting_numbers = np.array([0,1,-1,math.pi,math.e])\n",
    "interesting_numbers"
   ]
  },
  {
   "cell_type": "markdown",
   "metadata": {},
   "source": [
    "Make an array containing the five strings `\"Hello\"`, `\",\"`, `\" \"`, `\"world\"`, and `\"!\"`.  (The third one is a single space inside quotes.)  Name it `hello_world_components`.\n",
    "\n",
    "*Note:* If you evaluate `hello_world_components`, you'll notice some extra information in addition to its contents: `dtype='<U5'`.  That's just NumPy's extremely cryptic way of saying that the data types in the array are strings."
   ]
  },
  {
   "cell_type": "code",
   "execution_count": 12,
   "metadata": {},
   "outputs": [
    {
     "data": {
      "text/plain": [
       "array(['Hello', ',', ' ', 'world', '!'], dtype='<U5')"
      ]
     },
     "execution_count": 12,
     "metadata": {},
     "output_type": "execute_result"
    }
   ],
   "source": [
    "hello_world_components = np.array([\"Hello\",\",\",\" \",\"world\",\"!\"])\n",
    "hello_world_components"
   ]
  },
  {
   "cell_type": "markdown",
   "metadata": {},
   "source": [
    "###  `np.arange`\n",
    "Very often, we want to work with many numbers that are evenly spaced within some range.  NumPy provides a special function for this called `arange`.  The line of code `np.arange(start, stop, step)` evaluates to an array with all the numbers starting at `start` and counting up by `step`, stopping **before** `stop` is reached.\n",
    "\n",
    "Run the following cells to see some examples!"
   ]
  },
  {
   "cell_type": "code",
   "execution_count": 13,
   "metadata": {},
   "outputs": [
    {
     "data": {
      "text/plain": [
       "array([1, 3, 5])"
      ]
     },
     "execution_count": 13,
     "metadata": {},
     "output_type": "execute_result"
    }
   ],
   "source": [
    "# This array starts at 1 and counts up by 2\n",
    "# and then stops before 6\n",
    "np.arange(1, 6, 2)"
   ]
  },
  {
   "cell_type": "code",
   "execution_count": 14,
   "metadata": {},
   "outputs": [
    {
     "data": {
      "text/plain": [
       "array([4, 5, 6, 7, 8])"
      ]
     },
     "execution_count": 14,
     "metadata": {},
     "output_type": "execute_result"
    }
   ],
   "source": [
    "# This array doesn't contain 9\n",
    "# because np.arange stops *before* the stop value is reached\n",
    "np.arange(4, 9, 1)"
   ]
  },
  {
   "cell_type": "markdown",
   "metadata": {},
   "source": [
    "Use np.arange to create an array with the multiples of 99 from 0 up to (and including) 9999. (So its elements are 0, 99, 198, 297, etc.)"
   ]
  },
  {
   "cell_type": "code",
   "execution_count": 5,
   "metadata": {},
   "outputs": [
    {
     "data": {
      "text/plain": [
       "array([   0,   99,  198,  297,  396,  495,  594,  693,  792,  891,  990,\n",
       "       1089, 1188, 1287, 1386, 1485, 1584, 1683, 1782, 1881, 1980, 2079,\n",
       "       2178, 2277, 2376, 2475, 2574, 2673, 2772, 2871, 2970, 3069, 3168,\n",
       "       3267, 3366, 3465, 3564, 3663, 3762, 3861, 3960, 4059, 4158, 4257,\n",
       "       4356, 4455, 4554, 4653, 4752, 4851, 4950, 5049, 5148, 5247, 5346,\n",
       "       5445, 5544, 5643, 5742, 5841, 5940, 6039, 6138, 6237, 6336, 6435,\n",
       "       6534, 6633, 6732, 6831, 6930, 7029, 7128, 7227, 7326, 7425, 7524,\n",
       "       7623, 7722, 7821, 7920, 8019, 8118, 8217, 8316, 8415, 8514, 8613,\n",
       "       8712, 8811, 8910, 9009, 9108, 9207, 9306, 9405, 9504, 9603, 9702,\n",
       "       9801, 9900, 9999])"
      ]
     },
     "execution_count": 5,
     "metadata": {},
     "output_type": "execute_result"
    }
   ],
   "source": [
    "multiples_of_99 = np.arange(0,10000,99)\n",
    "multiples_of_99"
   ]
  },
  {
   "cell_type": "markdown",
   "metadata": {},
   "source": [
    "NOAA (the US National Oceanic and Atmospheric Administration) operates weather stations that measure surface temperatures at different sites around the United States.  The hourly readings are [publicly available](http://www.ncdc.noaa.gov/qclcd/QCLCD?prior=N).\n",
    "\n",
    "Suppose we download all the hourly data from the Oakland, California site for the month of December 2015.  To analyze the data, we want to know when each reading was taken, but we find that the data don't include the timestamps of the readings (the time at which each one was taken).\n",
    "\n",
    "However, we know the first reading was taken at the first instant of December 2015 (midnight on December 1st) and each subsequent reading was taken exactly 1 hour after the last.\n",
    "\n",
    "Create an array of the *time, in seconds, since the start of the month* at which each hourly reading was taken.  Name it `collection_times`.\n",
    "\n",
    "*Hint 1:* There were 31 days in December, which is equivalent to ($31 \\times 24$) hours or ($31 \\times 24 \\times 60 \\times 60$) seconds.  So your array should have $31 \\times 24$ elements in it.\n",
    "\n",
    "*Hint 2:* The `len` function works on arrays, too!  Check your array's length and make sure it has $31 \\times 24$ elements."
   ]
  },
  {
   "cell_type": "code",
   "execution_count": 17,
   "metadata": {},
   "outputs": [
    {
     "data": {
      "text/plain": [
       "744"
      ]
     },
     "execution_count": 17,
     "metadata": {},
     "output_type": "execute_result"
    }
   ],
   "source": [
    "collection_times = np.arange(0,31*24*60*60,3600)\n",
    "len(collection_times)"
   ]
  },
  {
   "cell_type": "markdown",
   "metadata": {},
   "source": [
    "### 6.2.2. Working with single elements of arrays (\"indexing\")\n",
    "The next cell creates an array called `population_amounts` that includes estimated world populations in every year from **1950** to roughly the present.  (The estimates come from the US Census Bureau website.)"
   ]
  },
  {
   "cell_type": "code",
   "execution_count": 8,
   "metadata": {},
   "outputs": [],
   "source": [
    "population_amounts = np.array([2557628654, 2594939877, 2636772306, 2682053389, 2730228104,\n",
    "       2782098943, 2835299673, 2891349717, 2948137248, 3000716593,\n",
    "       3043001508, 3083966929, 3140093217, 3209827882, 3281201306,\n",
    "       3350425793, 3420677923, 3490333715, 3562313822, 3637159050,\n",
    "       3712697742, 3790326948, 3866568653, 3942096442, 4016608813,\n",
    "       4089083233, 4160185010, 4232084578, 4304105753, 4379013942,\n",
    "       4451362735, 4534410125, 4614566561, 4695736743, 4774569391,\n",
    "       4856462699, 4940571232, 5027200492, 5114557167, 5201440110,\n",
    "       5288955934, 5371585922, 5456136278, 5538268316, 5618682132,\n",
    "       5699202985, 5779440593, 5857972543, 5935213248, 6012074922,\n",
    "       6088571383, 6165219247, 6242016348, 6318590956, 6395699509,\n",
    "       6473044732, 6551263534, 6629913759, 6709049780, 6788214394,\n",
    "       6866332358, 6944055583, 7022349283, 7101027895, 7178722893,\n",
    "       7256490011])"
   ]
  },
  {
   "cell_type": "markdown",
   "metadata": {},
   "source": [
    "Here's how we get the first element of `population_amounts`, which is the world population in the first year in the dataset, 1950."
   ]
  },
  {
   "cell_type": "code",
   "execution_count": 20,
   "metadata": {},
   "outputs": [
    {
     "data": {
      "text/plain": [
       "2557628654"
      ]
     },
     "execution_count": 20,
     "metadata": {},
     "output_type": "execute_result"
    }
   ],
   "source": [
    "population_amounts.item(0)"
   ]
  },
  {
   "cell_type": "markdown",
   "metadata": {},
   "source": [
    "The value of that expression is the number 2557628654 (around 2.5 billion), because that's the first thing in the array `population_amounts`.\n",
    "\n",
    "Notice that we wrote `.item(0)`, not `.item(1)`, to get the first element.  This is a weird convention in computer science.  0 is called the *index* of the first item.  It's the number of elements that appear *before* that item.  So 3 is the index of the 4th item.\n",
    "\n",
    "Here are some more examples.  In the examples, we've given names to the things we get out of `population_amounts`.  Read and run each cell."
   ]
  },
  {
   "cell_type": "code",
   "execution_count": 21,
   "metadata": {},
   "outputs": [
    {
     "data": {
      "text/plain": [
       "3140093217"
      ]
     },
     "execution_count": 21,
     "metadata": {},
     "output_type": "execute_result"
    }
   ],
   "source": [
    "# The 13th element in the array is the population\n",
    "# in 1962 (which is 1950 + 12).\n",
    "population_1962 = population_amounts.item(12)\n",
    "population_1962"
   ]
  },
  {
   "cell_type": "code",
   "execution_count": 22,
   "metadata": {},
   "outputs": [
    {
     "data": {
      "text/plain": [
       "7256490011"
      ]
     },
     "execution_count": 22,
     "metadata": {},
     "output_type": "execute_result"
    }
   ],
   "source": [
    "# The 66th element is the population in 2015.\n",
    "population_2015 = population_amounts.item(65)\n",
    "population_2015"
   ]
  },
  {
   "cell_type": "code",
   "execution_count": 9,
   "metadata": {},
   "outputs": [
    {
     "ename": "IndexError",
     "evalue": "index 66 is out of bounds for axis 0 with size 66",
     "output_type": "error",
     "traceback": [
      "\u001b[1;31m---------------------------------------------------------------------------\u001b[0m",
      "\u001b[1;31mIndexError\u001b[0m                                Traceback (most recent call last)",
      "\u001b[1;32m<ipython-input-9-20d13c231c2b>\u001b[0m in \u001b[0;36m<module>\u001b[1;34m\u001b[0m\n\u001b[0;32m      1\u001b[0m \u001b[1;31m# The array has only 66 elements, so this doesn't work.\u001b[0m\u001b[1;33m\u001b[0m\u001b[1;33m\u001b[0m\u001b[1;33m\u001b[0m\u001b[0m\n\u001b[0;32m      2\u001b[0m \u001b[1;31m# (There's no element with 66 other elements before it.)\u001b[0m\u001b[1;33m\u001b[0m\u001b[1;33m\u001b[0m\u001b[1;33m\u001b[0m\u001b[0m\n\u001b[1;32m----> 3\u001b[1;33m \u001b[0mpopulation_2016\u001b[0m \u001b[1;33m=\u001b[0m \u001b[0mpopulation_amounts\u001b[0m\u001b[1;33m.\u001b[0m\u001b[0mitem\u001b[0m\u001b[1;33m(\u001b[0m\u001b[1;36m66\u001b[0m\u001b[1;33m)\u001b[0m\u001b[1;33m\u001b[0m\u001b[1;33m\u001b[0m\u001b[0m\n\u001b[0m\u001b[0;32m      4\u001b[0m \u001b[0mpopulation_2016\u001b[0m\u001b[1;33m\u001b[0m\u001b[1;33m\u001b[0m\u001b[0m\n",
      "\u001b[1;31mIndexError\u001b[0m: index 66 is out of bounds for axis 0 with size 66"
     ]
    }
   ],
   "source": [
    "# The array has only 66 elements, so this doesn't work.\n",
    "# (There's no element with 66 other elements before it.)\n",
    "population_2016 = population_amounts.item(66)\n",
    "population_2016"
   ]
  },
  {
   "cell_type": "markdown",
   "metadata": {},
   "source": [
    "Set `population_1973` to the world population in 1973, by getting the appropriate element from `population_amounts` using `item`."
   ]
  },
  {
   "cell_type": "code",
   "execution_count": 10,
   "metadata": {},
   "outputs": [
    {
     "data": {
      "text/plain": [
       "3942096442"
      ]
     },
     "execution_count": 10,
     "metadata": {},
     "output_type": "execute_result"
    }
   ],
   "source": [
    "population_1973 = population_amounts.item(23)\n",
    "population_1973"
   ]
  },
  {
   "cell_type": "markdown",
   "metadata": {},
   "source": [
    "### 6.2.3. Doing something to every element of an array\n",
    "Arrays are primarily useful for doing the same operation many times, so we don't often have to use `.item` and work with single elements. For example, you can divide all the population numbers by 1 billion to get numbers in billions:"
   ]
  },
  {
   "cell_type": "code",
   "execution_count": 11,
   "metadata": {},
   "outputs": [
    {
     "data": {
      "text/plain": [
       "array([2.55762865, 2.59493988, 2.63677231, 2.68205339, 2.7302281 ,\n",
       "       2.78209894, 2.83529967, 2.89134972, 2.94813725, 3.00071659,\n",
       "       3.04300151, 3.08396693, 3.14009322, 3.20982788, 3.28120131,\n",
       "       3.35042579, 3.42067792, 3.49033371, 3.56231382, 3.63715905,\n",
       "       3.71269774, 3.79032695, 3.86656865, 3.94209644, 4.01660881,\n",
       "       4.08908323, 4.16018501, 4.23208458, 4.30410575, 4.37901394,\n",
       "       4.45136274, 4.53441012, 4.61456656, 4.69573674, 4.77456939,\n",
       "       4.8564627 , 4.94057123, 5.02720049, 5.11455717, 5.20144011,\n",
       "       5.28895593, 5.37158592, 5.45613628, 5.53826832, 5.61868213,\n",
       "       5.69920299, 5.77944059, 5.85797254, 5.93521325, 6.01207492,\n",
       "       6.08857138, 6.16521925, 6.24201635, 6.31859096, 6.39569951,\n",
       "       6.47304473, 6.55126353, 6.62991376, 6.70904978, 6.78821439,\n",
       "       6.86633236, 6.94405558, 7.02234928, 7.10102789, 7.17872289,\n",
       "       7.25649001])"
      ]
     },
     "execution_count": 11,
     "metadata": {},
     "output_type": "execute_result"
    }
   ],
   "source": [
    "population_in_billions = population_amounts / 1000000000\n",
    "population_in_billions"
   ]
  },
  {
   "cell_type": "markdown",
   "metadata": {},
   "source": [
    "What you just did is called *elementwise* application of the division operation since the division by 1 billion was performed separately on each element of the array that it was called on. You can do the same with addition, subtraction, multiplication, and exponentiation (`**`).\n",
    "\n",
    "### 6.2.4. Array operations in NumPy\n",
    "The NumPy module includes a number of other useful functions for manipulating arrays. For example, the function `sum` takes a single array of numbers as its argument, and it returns the sum of all the numbers in that array. Run the cells below to see some of the most common array operations in action."
   ]
  },
  {
   "cell_type": "code",
   "execution_count": 12,
   "metadata": {},
   "outputs": [],
   "source": [
    "demo_array = np.array([1,55,82,945,1000,234,91,680,3,17])"
   ]
  },
  {
   "cell_type": "code",
   "execution_count": 13,
   "metadata": {},
   "outputs": [
    {
     "data": {
      "text/plain": [
       "3108"
      ]
     },
     "execution_count": 13,
     "metadata": {},
     "output_type": "execute_result"
    }
   ],
   "source": [
    "# calculates the sum of all elements in the array\n",
    "sum_of_demo_array = np.sum(demo_array)\n",
    "sum_of_demo_array"
   ]
  },
  {
   "cell_type": "code",
   "execution_count": 14,
   "metadata": {},
   "outputs": [
    {
     "data": {
      "text/plain": [
       "array([0.        , 1.74036269, 1.91381385, 2.97543181, 3.        ,\n",
       "       2.36921586, 1.95904139, 2.83250891, 0.47712125, 1.23044892])"
      ]
     },
     "execution_count": 14,
     "metadata": {},
     "output_type": "execute_result"
    }
   ],
   "source": [
    "# calculates the logarithm of each element in an array\n",
    "log_of_demo_array = np.log10(demo_array)\n",
    "log_of_demo_array"
   ]
  },
  {
   "cell_type": "code",
   "execution_count": 15,
   "metadata": {},
   "outputs": [
    {
     "data": {
      "text/plain": [
       "310.8"
      ]
     },
     "execution_count": 15,
     "metadata": {},
     "output_type": "execute_result"
    }
   ],
   "source": [
    "# calculates the mean of all elements in the array\n",
    "mean_of_demo_array = np.mean(demo_array)\n",
    "mean_of_demo_array"
   ]
  },
  {
   "cell_type": "code",
   "execution_count": 16,
   "metadata": {},
   "outputs": [
    {
     "data": {
      "text/plain": [
       "86.5"
      ]
     },
     "execution_count": 16,
     "metadata": {},
     "output_type": "execute_result"
    }
   ],
   "source": [
    "# calculates the median of all elements in the array\n",
    "median_of_demo_array = np.median(demo_array)\n",
    "median_of_demo_array"
   ]
  },
  {
   "cell_type": "code",
   "execution_count": 17,
   "metadata": {},
   "outputs": [
    {
     "data": {
      "text/plain": [
       "array([   1,    3,   17,   55,   82,   91,  234,  680,  945, 1000])"
      ]
     },
     "execution_count": 17,
     "metadata": {},
     "output_type": "execute_result"
    }
   ],
   "source": [
    "# sorts the elements in the array from lowest to highest\n",
    "sorted_demo_array = np.sort(demo_array)\n",
    "sorted_demo_array"
   ]
  },
  {
   "cell_type": "code",
   "execution_count": 18,
   "metadata": {},
   "outputs": [
    {
     "data": {
      "text/plain": [
       "array([   1,   55,   82,  945, 1000,  234,   91,  680,    3,   17,    1,\n",
       "         55,   82,  945, 1000,  234,   91,  680,    3,   17])"
      ]
     },
     "execution_count": 18,
     "metadata": {},
     "output_type": "execute_result"
    }
   ],
   "source": [
    "# concatenates two arrays into a single, new array\n",
    "concatenated_demo_array = np.concatenate((demo_array,demo_array),axis=None)\n",
    "concatenated_demo_array"
   ]
  },
  {
   "cell_type": "markdown",
   "metadata": {},
   "source": [
    "# 7. Booleans\n",
    "In Python, the boolean data type contains only two unique values:  `True` and `False`. Expressions containing comparison operators such as `<` (less than), `>` (greater than), and `==` (equal to) evaluate to Boolean values. A list of common comparison operators can be found below.\n",
    "\n",
    "| Comparison               | Operator | True Example | False Example |\n",
    "|--------------------------|----------|--------------|---------------|\n",
    "| Less than                | <        | 2 < 3        | 2 < 2         |\n",
    "| Greater than             | >        | 3 > 2        | 3 > 3         |\n",
    "| Less than or equal to    | <=       | 2 <= 2       | 3 <= 2        |\n",
    "| Greater than or equal to | >=       | 3 >= 3       | 2 >= 3        |\n",
    "| Equal                    | ==       | 3 == 3       | 3 == 2        |\n",
    "| Not equal                | !=       | 3 != 2       | 2 != 2        |\n",
    "\n",
    "Run the cell below to see an example of a comparison operator in action."
   ]
  },
  {
   "cell_type": "code",
   "execution_count": 19,
   "metadata": {},
   "outputs": [
    {
     "data": {
      "text/plain": [
       "True"
      ]
     },
     "execution_count": 19,
     "metadata": {},
     "output_type": "execute_result"
    }
   ],
   "source": [
    "3 > 1 + 1"
   ]
  },
  {
   "cell_type": "markdown",
   "metadata": {},
   "source": [
    "We can even assign the result of a comparison operation to a variable."
   ]
  },
  {
   "cell_type": "code",
   "execution_count": 20,
   "metadata": {},
   "outputs": [
    {
     "data": {
      "text/plain": [
       "True"
      ]
     },
     "execution_count": 20,
     "metadata": {},
     "output_type": "execute_result"
    }
   ],
   "source": [
    "result = 10 / 2 == 5\n",
    "result"
   ]
  },
  {
   "cell_type": "markdown",
   "metadata": {},
   "source": [
    "Arrays are compatible with comparison operators. The output is an array of boolean values."
   ]
  },
  {
   "cell_type": "code",
   "execution_count": 21,
   "metadata": {},
   "outputs": [
    {
     "data": {
      "text/plain": [
       "array([False,  True,  True,  True, False, False])"
      ]
     },
     "execution_count": 21,
     "metadata": {},
     "output_type": "execute_result"
    }
   ],
   "source": [
    "np.array([1, 5, 7, 8, 3, -1]) > 3"
   ]
  },
  {
   "cell_type": "markdown",
   "metadata": {},
   "source": [
    "## 7.1. Conditional Statements\n",
    "A conditional statement is a multi-line statement that allows Python to choose among different alternatives based on the truth value of an expression.\n",
    "\n",
    "Here is a basic example.\n",
    "\n",
    "```\n",
    "def sign(x):\n",
    "    if x > 0:\n",
    "        return 'Positive'\n",
    "    else:\n",
    "        return 'Negative'\n",
    "```\n",
    "\n",
    "If the input `x` is greater than `0`, we return the string `'Positive'`. Otherwise, we return `'Negative'`.\n",
    "\n",
    "If we want to test multiple conditions at once, we use the following general format.\n",
    "\n",
    "```\n",
    "if <if expression>:\n",
    "    <if body>\n",
    "elif <elif expression 0>:\n",
    "    <elif body 0>\n",
    "elif <elif expression 1>:\n",
    "    <elif body 1>\n",
    "...\n",
    "else:\n",
    "    <else body>\n",
    "```\n",
    "\n",
    "Only the body for the first conditional expression that is true will be evaluated. Each `if` and `elif` expression is evaluated and considered in order, starting at the top. As soon as a true value is found, the corresponding body is executed, and the rest of the conditional statement is skipped. If none of the `if` or `elif` expressions are true, then the `else body` is executed. \n",
    "\n",
    "For more examples and explanation, refer to the section on conditional statements [here](https://www.inferentialthinking.com/chapters/09/1/conditional-statements.html).\n",
    "\n",
    "Imagine that you are playing darts. The `np.random.choice` function simulates the score of your toss, from a minimum of 1 point to a maximum of 10 points. Complete the following conditional statement so that the `reaction` changes to the string `'Good toss!'` if you score at least `5` points. Try running the cell multiple times to make sure your `reaction` changes according to the `simulated score`."
   ]
  },
  {
   "cell_type": "code",
   "execution_count": 48,
   "metadata": {},
   "outputs": [
    {
     "name": "stdout",
     "output_type": "stream",
     "text": [
      "[5]\n"
     ]
    },
    {
     "data": {
      "text/plain": [
       "'Good toss!'"
      ]
     },
     "execution_count": 48,
     "metadata": {},
     "output_type": "execute_result"
    }
   ],
   "source": [
    "possible_point_values = np.arange(1,11)\n",
    "simulated_score = np.random.choice(possible_point_values,1)\n",
    "\n",
    "reaction = 'Try again!'\n",
    "\n",
    "if simulated_score >= 5:\n",
    "    reaction = \"Good toss!\"\n",
    "\n",
    "print(simulated_score)\n",
    "reaction"
   ]
  },
  {
   "cell_type": "markdown",
   "metadata": {},
   "source": [
    "Now write code to reflect a more nuanced reaction to your darts score. Award a score of `10` points a `Perfect!` reaction, a score of `7` to `9` points a `Good toss!` reaction, and a score of `4` to `6` points a `Not bad.` reaction. All other scores should result in a `Try again!` reaction."
   ]
  },
  {
   "cell_type": "code",
   "execution_count": 61,
   "metadata": {},
   "outputs": [
    {
     "name": "stdout",
     "output_type": "stream",
     "text": [
      "[5]\n"
     ]
    },
    {
     "data": {
      "text/plain": [
       "'Not bad.'"
      ]
     },
     "execution_count": 61,
     "metadata": {},
     "output_type": "execute_result"
    }
   ],
   "source": [
    "simulated_score = np.random.choice(possible_point_values,1)\n",
    "\n",
    "reaction = 'Try again!'\n",
    "\n",
    "if simulated_score == 10:\n",
    "    reaction = 'Perfect！'\n",
    "elif simulated_score >=7:\n",
    "    reaction = 'Good toss!'\n",
    "elif simulated_score >=4:\n",
    "    reaction = 'Not bad.'\n",
    "\n",
    "print(simulated_score)\n",
    "reaction"
   ]
  },
  {
   "cell_type": "markdown",
   "metadata": {},
   "source": [
    "## 7.2. For loops\n",
    "Using a `for` statement, we can perform a task multiple times. This is known as iteration. One use of iteration is to loop through a set of values. For instance, we can print out all of the colors of the rainbow."
   ]
  },
  {
   "cell_type": "code",
   "execution_count": null,
   "metadata": {},
   "outputs": [],
   "source": [
    "rainbow = np.array([\"red\", \"orange\", \"yellow\", \"green\", \"blue\", \"indigo\", \"violet\"])\n",
    "\n",
    "for color in rainbow:\n",
    "    print(color)"
   ]
  },
  {
   "cell_type": "markdown",
   "metadata": {},
   "source": [
    "We can see that the indented part of the for loop, known as the body, is executed once for each item in rainbow. Note that the name color is arbitrary; we could easily have named it something else. The important thing is we stay consistent throughout the for loop."
   ]
  },
  {
   "cell_type": "code",
   "execution_count": null,
   "metadata": {},
   "outputs": [],
   "source": [
    "for another_name in rainbow:\n",
    "    print(another_name)"
   ]
  },
  {
   "cell_type": "markdown",
   "metadata": {},
   "source": [
    "In general, however, we would like the variable name to be somewhat informative. \n",
    "\n",
    "Remember your dart tosses from before? Using a for loop, we can track the outcome of many dart tosses without having to re-run the cell over and over again. Fill in the `...` below to complete the for loop that allows you to count the number of tosses out of 1000 in which you earned more than `5` points."
   ]
  },
  {
   "cell_type": "code",
   "execution_count": 62,
   "metadata": {},
   "outputs": [
    {
     "data": {
      "text/plain": [
       "495"
      ]
     },
     "execution_count": 62,
     "metadata": {},
     "output_type": "execute_result"
    }
   ],
   "source": [
    "possible_point_values = np.arange(1,11)\n",
    "simulated_scores = np.random.choice(possible_point_values,1000)\n",
    "\n",
    "more_than_five = 0\n",
    "\n",
    "for score in simulated_scores:\n",
    "    if score > 5:\n",
    "        more_than_five = more_than_five+1\n",
    "        \n",
    "more_than_five"
   ]
  },
  {
   "cell_type": "markdown",
   "metadata": {},
   "source": [
    "Let's put some of what you've learned together. Simulate a random roll of a 6-sided fair die. Assume that all sides are equally likely to be obtained from a roll."
   ]
  },
  {
   "cell_type": "code",
   "execution_count": 136,
   "metadata": {},
   "outputs": [],
   "source": [
    "die = [1,2,3,4,5,6]\n",
    "one_random_roll = np.random.choice(die,1)"
   ]
  },
  {
   "cell_type": "markdown",
   "metadata": {},
   "source": [
    "Now define a function `mean_of_n_rolls` that takes in an integer `n` and returns the mean value of `n` random rolls of a fair die."
   ]
  },
  {
   "cell_type": "code",
   "execution_count": 153,
   "metadata": {},
   "outputs": [
    {
     "data": {
      "text/plain": [
       "2.8"
      ]
     },
     "execution_count": 153,
     "metadata": {},
     "output_type": "execute_result"
    }
   ],
   "source": [
    "i = 1\n",
    "def mean_of_n_rolls(n):\n",
    "    n_rolls = np.sum(np.random.choice(die,n))\n",
    "    return n_rolls/n\n",
    "\n",
    "mean_of_n_rolls(5)"
   ]
  },
  {
   "cell_type": "markdown",
   "metadata": {},
   "source": [
    "Simulate 10 random rolls of a fair die 10,000 times. Record the mean of each set of 10 rolls in an array called `ten_rolls_means`. You may want to use a `for` loop!"
   ]
  },
  {
   "cell_type": "code",
   "execution_count": 155,
   "metadata": {},
   "outputs": [
    {
     "data": {
      "text/plain": [
       "[2.5,\n",
       " 3.2,\n",
       " 3.1,\n",
       " 3.7,\n",
       " 3.0,\n",
       " 2.9,\n",
       " 3.8,\n",
       " 4.0,\n",
       " 3.4,\n",
       " 3.1,\n",
       " 3.4,\n",
       " 3.9,\n",
       " 3.7,\n",
       " 4.4,\n",
       " 3.7,\n",
       " 3.3,\n",
       " 4.5,\n",
       " 2.7,\n",
       " 3.6,\n",
       " 3.1,\n",
       " 4.0,\n",
       " 4.1,\n",
       " 4.5,\n",
       " 4.2,\n",
       " 4.5,\n",
       " 2.8,\n",
       " 3.1,\n",
       " 2.9,\n",
       " 3.9,\n",
       " 3.8,\n",
       " 1.7,\n",
       " 3.2,\n",
       " 2.5,\n",
       " 3.7,\n",
       " 4.1,\n",
       " 3.9,\n",
       " 3.2,\n",
       " 3.4,\n",
       " 3.5,\n",
       " 3.3,\n",
       " 3.8,\n",
       " 3.5,\n",
       " 3.6,\n",
       " 3.2,\n",
       " 3.2,\n",
       " 3.3,\n",
       " 3.5,\n",
       " 3.4,\n",
       " 3.5,\n",
       " 2.7,\n",
       " 3.2,\n",
       " 2.9,\n",
       " 3.3,\n",
       " 2.9,\n",
       " 2.9,\n",
       " 2.9,\n",
       " 4.1,\n",
       " 3.6,\n",
       " 4.1,\n",
       " 3.8,\n",
       " 3.5,\n",
       " 3.9,\n",
       " 3.4,\n",
       " 3.4,\n",
       " 3.8,\n",
       " 3.9,\n",
       " 4.0,\n",
       " 2.8,\n",
       " 3.2,\n",
       " 3.2,\n",
       " 3.1,\n",
       " 3.1,\n",
       " 1.9,\n",
       " 3.8,\n",
       " 2.3,\n",
       " 4.0,\n",
       " 3.3,\n",
       " 2.7,\n",
       " 3.0,\n",
       " 3.6,\n",
       " 3.2,\n",
       " 3.7,\n",
       " 3.5,\n",
       " 3.2,\n",
       " 3.8,\n",
       " 3.8,\n",
       " 3.8,\n",
       " 2.4,\n",
       " 3.0,\n",
       " 2.7,\n",
       " 4.1,\n",
       " 2.5,\n",
       " 3.3,\n",
       " 3.4,\n",
       " 4.0,\n",
       " 4.2,\n",
       " 2.7,\n",
       " 2.6,\n",
       " 4.2,\n",
       " 3.2,\n",
       " 3.2,\n",
       " 2.5,\n",
       " 2.6,\n",
       " 2.7,\n",
       " 2.8,\n",
       " 2.8,\n",
       " 3.8,\n",
       " 2.8,\n",
       " 3.5,\n",
       " 4.0,\n",
       " 3.7,\n",
       " 3.9,\n",
       " 3.9,\n",
       " 3.1,\n",
       " 3.2,\n",
       " 4.0,\n",
       " 2.7,\n",
       " 3.6,\n",
       " 2.6,\n",
       " 2.3,\n",
       " 3.3,\n",
       " 3.5,\n",
       " 3.9,\n",
       " 2.4,\n",
       " 4.1,\n",
       " 3.1,\n",
       " 3.7,\n",
       " 4.1,\n",
       " 3.4,\n",
       " 2.7,\n",
       " 3.2,\n",
       " 3.1,\n",
       " 3.7,\n",
       " 3.8,\n",
       " 3.5,\n",
       " 4.0,\n",
       " 3.5,\n",
       " 4.2,\n",
       " 3.1,\n",
       " 3.4,\n",
       " 3.4,\n",
       " 3.4,\n",
       " 2.4,\n",
       " 3.8,\n",
       " 4.3,\n",
       " 2.9,\n",
       " 3.3,\n",
       " 3.9,\n",
       " 2.7,\n",
       " 3.8,\n",
       " 3.0,\n",
       " 4.1,\n",
       " 4.0,\n",
       " 3.6,\n",
       " 2.6,\n",
       " 3.5,\n",
       " 4.3,\n",
       " 3.0,\n",
       " 3.4,\n",
       " 3.0,\n",
       " 3.7,\n",
       " 3.4,\n",
       " 3.3,\n",
       " 3.8,\n",
       " 3.2,\n",
       " 2.0,\n",
       " 3.3,\n",
       " 2.8,\n",
       " 3.9,\n",
       " 2.9,\n",
       " 3.3,\n",
       " 3.6,\n",
       " 3.7,\n",
       " 3.0,\n",
       " 2.9,\n",
       " 4.5,\n",
       " 2.7,\n",
       " 4.8,\n",
       " 3.3,\n",
       " 3.7,\n",
       " 3.9,\n",
       " 3.9,\n",
       " 3.0,\n",
       " 3.4,\n",
       " 4.2,\n",
       " 3.3,\n",
       " 5.5,\n",
       " 3.4,\n",
       " 3.5,\n",
       " 3.4,\n",
       " 3.7,\n",
       " 3.7,\n",
       " 3.0,\n",
       " 3.7,\n",
       " 3.7,\n",
       " 3.9,\n",
       " 3.2,\n",
       " 3.3,\n",
       " 3.5,\n",
       " 3.5,\n",
       " 3.7,\n",
       " 3.3,\n",
       " 2.8,\n",
       " 3.8,\n",
       " 3.4,\n",
       " 2.7,\n",
       " 4.9,\n",
       " 3.8,\n",
       " 3.1,\n",
       " 3.4,\n",
       " 4.0,\n",
       " 2.6,\n",
       " 2.5,\n",
       " 4.0,\n",
       " 3.4,\n",
       " 3.6,\n",
       " 4.1,\n",
       " 4.0,\n",
       " 3.5,\n",
       " 3.5,\n",
       " 2.3,\n",
       " 3.7,\n",
       " 3.2,\n",
       " 3.0,\n",
       " 3.8,\n",
       " 2.9,\n",
       " 3.3,\n",
       " 2.9,\n",
       " 3.2,\n",
       " 3.4,\n",
       " 4.3,\n",
       " 3.1,\n",
       " 3.9,\n",
       " 3.7,\n",
       " 3.7,\n",
       " 3.3,\n",
       " 2.8,\n",
       " 2.6,\n",
       " 4.2,\n",
       " 3.8,\n",
       " 4.2,\n",
       " 3.3,\n",
       " 3.7,\n",
       " 4.3,\n",
       " 3.6,\n",
       " 4.1,\n",
       " 3.7,\n",
       " 3.2,\n",
       " 2.9,\n",
       " 4.2,\n",
       " 2.9,\n",
       " 3.9,\n",
       " 3.8,\n",
       " 3.9,\n",
       " 4.2,\n",
       " 3.7,\n",
       " 3.1,\n",
       " 3.3,\n",
       " 3.3,\n",
       " 3.9,\n",
       " 2.3,\n",
       " 2.9,\n",
       " 4.3,\n",
       " 4.1,\n",
       " 3.8,\n",
       " 3.5,\n",
       " 3.6,\n",
       " 3.7,\n",
       " 4.0,\n",
       " 3.0,\n",
       " 3.5,\n",
       " 3.3,\n",
       " 3.4,\n",
       " 3.7,\n",
       " 3.3,\n",
       " 3.1,\n",
       " 4.8,\n",
       " 3.3,\n",
       " 3.3,\n",
       " 3.6,\n",
       " 3.7,\n",
       " 3.6,\n",
       " 2.7,\n",
       " 3.9,\n",
       " 3.1,\n",
       " 3.6,\n",
       " 3.4,\n",
       " 3.5,\n",
       " 3.9,\n",
       " 3.0,\n",
       " 2.5,\n",
       " 3.7,\n",
       " 3.6,\n",
       " 3.7,\n",
       " 3.6,\n",
       " 3.2,\n",
       " 3.4,\n",
       " 2.7,\n",
       " 3.8,\n",
       " 3.8,\n",
       " 2.8,\n",
       " 3.3,\n",
       " 3.4,\n",
       " 2.7,\n",
       " 4.0,\n",
       " 2.3,\n",
       " 3.4,\n",
       " 3.3,\n",
       " 3.4,\n",
       " 3.1,\n",
       " 3.6,\n",
       " 4.0,\n",
       " 3.4,\n",
       " 2.9,\n",
       " 3.1,\n",
       " 3.2,\n",
       " 3.9,\n",
       " 3.5,\n",
       " 3.1,\n",
       " 2.8,\n",
       " 4.1,\n",
       " 3.5,\n",
       " 3.2,\n",
       " 2.0,\n",
       " 3.3,\n",
       " 3.0,\n",
       " 3.7,\n",
       " 3.9,\n",
       " 4.1,\n",
       " 4.1,\n",
       " 2.7,\n",
       " 3.6,\n",
       " 3.9,\n",
       " 3.5,\n",
       " 4.5,\n",
       " 2.8,\n",
       " 3.3,\n",
       " 2.8,\n",
       " 3.3,\n",
       " 3.1,\n",
       " 3.7,\n",
       " 4.3,\n",
       " 3.9,\n",
       " 3.3,\n",
       " 3.1,\n",
       " 3.9,\n",
       " 4.0,\n",
       " 3.7,\n",
       " 3.0,\n",
       " 3.6,\n",
       " 3.6,\n",
       " 2.8,\n",
       " 3.0,\n",
       " 3.5,\n",
       " 4.2,\n",
       " 3.8,\n",
       " 3.7,\n",
       " 4.0,\n",
       " 3.7,\n",
       " 4.2,\n",
       " 4.0,\n",
       " 3.0,\n",
       " 3.0,\n",
       " 3.1,\n",
       " 3.8,\n",
       " 3.2,\n",
       " 3.9,\n",
       " 3.5,\n",
       " 3.9,\n",
       " 4.0,\n",
       " 3.6,\n",
       " 3.7,\n",
       " 3.8,\n",
       " 3.1,\n",
       " 3.7,\n",
       " 3.2,\n",
       " 2.7,\n",
       " 3.2,\n",
       " 3.7,\n",
       " 3.7,\n",
       " 2.7,\n",
       " 2.9,\n",
       " 3.9,\n",
       " 4.5,\n",
       " 3.5,\n",
       " 3.4,\n",
       " 3.6,\n",
       " 3.6,\n",
       " 4.2,\n",
       " 3.5,\n",
       " 3.9,\n",
       " 4.3,\n",
       " 3.5,\n",
       " 3.0,\n",
       " 3.7,\n",
       " 3.4,\n",
       " 3.2,\n",
       " 3.3,\n",
       " 2.9,\n",
       " 4.2,\n",
       " 3.2,\n",
       " 2.9,\n",
       " 2.9,\n",
       " 4.3,\n",
       " 3.9,\n",
       " 3.4,\n",
       " 3.7,\n",
       " 3.9,\n",
       " 3.1,\n",
       " 3.7,\n",
       " 3.6,\n",
       " 3.3,\n",
       " 4.2,\n",
       " 4.0,\n",
       " 3.4,\n",
       " 3.0,\n",
       " 3.8,\n",
       " 3.9,\n",
       " 3.5,\n",
       " 3.1,\n",
       " 3.6,\n",
       " 2.2,\n",
       " 3.8,\n",
       " 3.9,\n",
       " 3.3,\n",
       " 3.6,\n",
       " 3.1,\n",
       " 3.1,\n",
       " 3.7,\n",
       " 2.8,\n",
       " 3.6,\n",
       " 3.5,\n",
       " 3.6,\n",
       " 3.1,\n",
       " 4.7,\n",
       " 4.0,\n",
       " 4.5,\n",
       " 3.5,\n",
       " 2.7,\n",
       " 2.5,\n",
       " 3.2,\n",
       " 4.1,\n",
       " 3.3,\n",
       " 3.5,\n",
       " 2.9,\n",
       " 3.6,\n",
       " 2.6,\n",
       " 3.2,\n",
       " 3.6,\n",
       " 3.2,\n",
       " 2.7,\n",
       " 3.4,\n",
       " 3.2,\n",
       " 3.7,\n",
       " 4.2,\n",
       " 4.0,\n",
       " 3.2,\n",
       " 3.2,\n",
       " 3.3,\n",
       " 3.0,\n",
       " 3.4,\n",
       " 2.8,\n",
       " 4.5,\n",
       " 4.1,\n",
       " 2.5,\n",
       " 3.3,\n",
       " 3.4,\n",
       " 3.2,\n",
       " 3.8,\n",
       " 2.9,\n",
       " 3.4,\n",
       " 3.2,\n",
       " 3.1,\n",
       " 4.2,\n",
       " 3.8,\n",
       " 3.0,\n",
       " 3.6,\n",
       " 3.5,\n",
       " 2.6,\n",
       " 3.3,\n",
       " 4.2,\n",
       " 3.9,\n",
       " 2.9,\n",
       " 3.3,\n",
       " 3.0,\n",
       " 3.8,\n",
       " 2.9,\n",
       " 3.9,\n",
       " 3.7,\n",
       " 4.6,\n",
       " 3.1,\n",
       " 4.0,\n",
       " 3.5,\n",
       " 3.3,\n",
       " 3.7,\n",
       " 3.2,\n",
       " 4.3,\n",
       " 3.3,\n",
       " 3.5,\n",
       " 3.6,\n",
       " 2.8,\n",
       " 3.4,\n",
       " 3.0,\n",
       " 3.1,\n",
       " 3.6,\n",
       " 3.7,\n",
       " 4.1,\n",
       " 2.3,\n",
       " 3.1,\n",
       " 3.9,\n",
       " 3.6,\n",
       " 4.5,\n",
       " 3.7,\n",
       " 3.6,\n",
       " 3.5,\n",
       " 2.9,\n",
       " 3.7,\n",
       " 3.3,\n",
       " 3.5,\n",
       " 3.3,\n",
       " 3.6,\n",
       " 3.1,\n",
       " 3.3,\n",
       " 3.0,\n",
       " 3.3,\n",
       " 3.0,\n",
       " 3.7,\n",
       " 3.7,\n",
       " 4.1,\n",
       " 3.9,\n",
       " 3.4,\n",
       " 4.1,\n",
       " 3.2,\n",
       " 3.4,\n",
       " 3.6,\n",
       " 3.5,\n",
       " 4.2,\n",
       " 3.2,\n",
       " 3.2,\n",
       " 4.0,\n",
       " 3.7,\n",
       " 4.0,\n",
       " 3.6,\n",
       " 3.5,\n",
       " 3.5,\n",
       " 3.3,\n",
       " 2.7,\n",
       " 3.7,\n",
       " 3.9,\n",
       " 4.1,\n",
       " 3.7,\n",
       " 2.5,\n",
       " 2.5,\n",
       " 3.1,\n",
       " 3.5,\n",
       " 3.8,\n",
       " 3.7,\n",
       " 4.3,\n",
       " 3.7,\n",
       " 3.4,\n",
       " 3.9,\n",
       " 3.5,\n",
       " 3.8,\n",
       " 3.9,\n",
       " 4.4,\n",
       " 4.2,\n",
       " 3.5,\n",
       " 2.8,\n",
       " 4.0,\n",
       " 3.8,\n",
       " 2.7,\n",
       " 3.3,\n",
       " 4.1,\n",
       " 3.5,\n",
       " 2.0,\n",
       " 3.3,\n",
       " 4.0,\n",
       " 4.7,\n",
       " 3.5,\n",
       " 3.5,\n",
       " 3.2,\n",
       " 3.1,\n",
       " 3.7,\n",
       " 4.3,\n",
       " 4.4,\n",
       " 3.4,\n",
       " 3.5,\n",
       " 3.6,\n",
       " 3.1,\n",
       " 3.6,\n",
       " 3.3,\n",
       " 4.2,\n",
       " 4.0,\n",
       " 3.0,\n",
       " 3.5,\n",
       " 4.3,\n",
       " 3.5,\n",
       " 3.9,\n",
       " 4.0,\n",
       " 3.1,\n",
       " 3.8,\n",
       " 3.7,\n",
       " 3.4,\n",
       " 2.7,\n",
       " 3.7,\n",
       " 4.5,\n",
       " 3.2,\n",
       " 2.6,\n",
       " 3.5,\n",
       " 2.6,\n",
       " 3.3,\n",
       " 2.8,\n",
       " 3.2,\n",
       " 3.1,\n",
       " 3.6,\n",
       " 3.1,\n",
       " 3.3,\n",
       " 3.2,\n",
       " 2.7,\n",
       " 3.9,\n",
       " 3.6,\n",
       " 3.2,\n",
       " 3.8,\n",
       " 3.1,\n",
       " 3.4,\n",
       " 3.8,\n",
       " 3.8,\n",
       " 3.6,\n",
       " 3.1,\n",
       " 4.1,\n",
       " 2.4,\n",
       " 3.4,\n",
       " 3.3,\n",
       " 3.7,\n",
       " 3.5,\n",
       " 3.9,\n",
       " 4.0,\n",
       " 3.7,\n",
       " 3.4,\n",
       " 3.7,\n",
       " 3.3,\n",
       " 4.0,\n",
       " 4.1,\n",
       " 3.8,\n",
       " 3.3,\n",
       " 3.6,\n",
       " 3.2,\n",
       " 3.4,\n",
       " 3.5,\n",
       " 3.1,\n",
       " 3.2,\n",
       " 3.6,\n",
       " 4.1,\n",
       " 3.3,\n",
       " 3.2,\n",
       " 3.0,\n",
       " 4.2,\n",
       " 2.8,\n",
       " 3.5,\n",
       " 3.8,\n",
       " 3.1,\n",
       " 4.0,\n",
       " 3.9,\n",
       " 4.7,\n",
       " 3.6,\n",
       " 3.4,\n",
       " 3.8,\n",
       " 3.0,\n",
       " 4.2,\n",
       " 3.0,\n",
       " 3.9,\n",
       " 3.7,\n",
       " 3.7,\n",
       " 3.0,\n",
       " 3.6,\n",
       " 4.1,\n",
       " 3.0,\n",
       " 2.8,\n",
       " 3.2,\n",
       " 3.7,\n",
       " 2.8,\n",
       " 2.7,\n",
       " 2.5,\n",
       " 2.9,\n",
       " 3.7,\n",
       " 3.4,\n",
       " 2.9,\n",
       " 3.3,\n",
       " 3.4,\n",
       " 2.8,\n",
       " 3.5,\n",
       " 3.7,\n",
       " 3.2,\n",
       " 2.8,\n",
       " 4.2,\n",
       " 3.1,\n",
       " 4.7,\n",
       " 2.8,\n",
       " 3.3,\n",
       " 3.5,\n",
       " 3.3,\n",
       " 3.0,\n",
       " 3.3,\n",
       " 2.6,\n",
       " 3.7,\n",
       " 3.6,\n",
       " 3.6,\n",
       " 2.7,\n",
       " 3.1,\n",
       " 3.4,\n",
       " 3.9,\n",
       " 4.0,\n",
       " 3.6,\n",
       " 3.3,\n",
       " 3.9,\n",
       " 3.3,\n",
       " 3.9,\n",
       " 3.6,\n",
       " 3.5,\n",
       " 3.6,\n",
       " 3.2,\n",
       " 3.6,\n",
       " 3.2,\n",
       " 3.5,\n",
       " 2.7,\n",
       " 3.1,\n",
       " 2.8,\n",
       " 2.6,\n",
       " 3.1,\n",
       " 3.2,\n",
       " 2.8,\n",
       " 3.4,\n",
       " 3.0,\n",
       " 3.1,\n",
       " 4.1,\n",
       " 4.1,\n",
       " 2.9,\n",
       " 4.1,\n",
       " 3.2,\n",
       " 4.3,\n",
       " 3.8,\n",
       " 3.1,\n",
       " 4.1,\n",
       " 3.8,\n",
       " 3.7,\n",
       " 4.0,\n",
       " 3.6,\n",
       " 3.5,\n",
       " 3.5,\n",
       " 4.0,\n",
       " 3.9,\n",
       " 3.2,\n",
       " 3.3,\n",
       " 3.0,\n",
       " 3.6,\n",
       " 3.3,\n",
       " 3.3,\n",
       " 3.2,\n",
       " 3.9,\n",
       " 3.9,\n",
       " 3.2,\n",
       " 3.1,\n",
       " 3.5,\n",
       " 2.8,\n",
       " 3.1,\n",
       " 3.4,\n",
       " 2.9,\n",
       " 3.3,\n",
       " 3.8,\n",
       " 3.1,\n",
       " 3.8,\n",
       " 3.6,\n",
       " 3.6,\n",
       " 4.5,\n",
       " 2.8,\n",
       " 2.9,\n",
       " 3.1,\n",
       " 3.6,\n",
       " 3.7,\n",
       " 3.3,\n",
       " 3.3,\n",
       " 3.3,\n",
       " 3.8,\n",
       " 3.5,\n",
       " 3.2,\n",
       " 3.2,\n",
       " 4.0,\n",
       " 3.5,\n",
       " 3.5,\n",
       " 3.5,\n",
       " 3.5,\n",
       " 3.2,\n",
       " 4.0,\n",
       " 3.8,\n",
       " 3.1,\n",
       " 3.6,\n",
       " 3.7,\n",
       " 3.5,\n",
       " 3.7,\n",
       " 3.3,\n",
       " 3.9,\n",
       " 3.2,\n",
       " 2.9,\n",
       " 3.2,\n",
       " 4.3,\n",
       " 3.3,\n",
       " 3.0,\n",
       " 4.0,\n",
       " 3.4,\n",
       " 3.0,\n",
       " 3.5,\n",
       " 2.8,\n",
       " 3.3,\n",
       " 3.9,\n",
       " 3.9,\n",
       " 4.1,\n",
       " 3.3,\n",
       " 4.0,\n",
       " 3.8,\n",
       " 3.2,\n",
       " 3.5,\n",
       " 4.1,\n",
       " 3.1,\n",
       " 3.0,\n",
       " 4.5,\n",
       " 4.5,\n",
       " 3.9,\n",
       " 2.9,\n",
       " 3.6,\n",
       " 3.6,\n",
       " 3.2,\n",
       " 4.0,\n",
       " 3.9,\n",
       " 3.9,\n",
       " 3.5,\n",
       " 3.8,\n",
       " 4.2,\n",
       " 4.0,\n",
       " 3.8,\n",
       " 4.1,\n",
       " 4.0,\n",
       " 3.2,\n",
       " 2.9,\n",
       " 3.3,\n",
       " 2.8,\n",
       " 4.5,\n",
       " 3.5,\n",
       " 4.0,\n",
       " 4.0,\n",
       " 3.6,\n",
       " 3.8,\n",
       " 3.8,\n",
       " 2.9,\n",
       " 3.4,\n",
       " 3.9,\n",
       " 4.3,\n",
       " 3.9,\n",
       " 3.2,\n",
       " 2.5,\n",
       " 3.8,\n",
       " 3.5,\n",
       " 3.0,\n",
       " 2.7,\n",
       " 2.6,\n",
       " 3.0,\n",
       " 3.6,\n",
       " 3.9,\n",
       " 3.6,\n",
       " 4.0,\n",
       " 3.8,\n",
       " 3.2,\n",
       " 3.1,\n",
       " 4.6,\n",
       " 3.0,\n",
       " 4.4,\n",
       " 3.6,\n",
       " 3.5,\n",
       " 3.1,\n",
       " 3.2,\n",
       " 3.4,\n",
       " 3.1,\n",
       " 3.9,\n",
       " 3.4,\n",
       " 4.2,\n",
       " 2.6,\n",
       " 2.9,\n",
       " 4.4,\n",
       " 3.7,\n",
       " 2.9,\n",
       " 3.1,\n",
       " 3.1,\n",
       " 4.3,\n",
       " 4.1,\n",
       " 3.9,\n",
       " 3.6,\n",
       " 3.9,\n",
       " 4.1,\n",
       " 3.3,\n",
       " 3.3,\n",
       " 3.5,\n",
       " 2.1,\n",
       " 2.5,\n",
       " 2.9,\n",
       " 3.7,\n",
       " 3.8,\n",
       " 3.8,\n",
       " 3.1,\n",
       " 4.3,\n",
       " 3.3,\n",
       " 4.3,\n",
       " 2.3,\n",
       " 3.2,\n",
       " 4.0,\n",
       " 3.7,\n",
       " 3.0,\n",
       " 3.4,\n",
       " 3.4,\n",
       " 3.1,\n",
       " 4.5,\n",
       " 3.7,\n",
       " 4.1,\n",
       " 4.2,\n",
       " 4.3,\n",
       " 4.3,\n",
       " 3.5,\n",
       " 3.3,\n",
       " 4.4,\n",
       " 3.9,\n",
       " 3.4,\n",
       " 4.0,\n",
       " 2.8,\n",
       " 4.3,\n",
       " 3.8,\n",
       " 3.7,\n",
       " 4.0,\n",
       " 3.4,\n",
       " 3.2,\n",
       " 4.4,\n",
       " 3.0,\n",
       " 4.5,\n",
       " 3.4,\n",
       " 3.5,\n",
       " 3.7,\n",
       " 3.0,\n",
       " 2.2,\n",
       " 3.3,\n",
       " 4.4,\n",
       " 3.6,\n",
       " 3.4,\n",
       " 2.9,\n",
       " 3.8,\n",
       " 2.6,\n",
       " 3.4,\n",
       " 2.8,\n",
       " 3.4,\n",
       " 3.3,\n",
       " 2.7,\n",
       " 3.6,\n",
       " 3.5,\n",
       " 4.3,\n",
       " 3.5,\n",
       " 3.9,\n",
       " 3.4,\n",
       " 3.1,\n",
       " 4.1,\n",
       " 4.0,\n",
       " 2.7,\n",
       " 3.6,\n",
       " 4.7,\n",
       " 3.4,\n",
       " 3.2,\n",
       " 2.6,\n",
       " 3.8,\n",
       " 3.5,\n",
       " 3.8,\n",
       " 3.7,\n",
       " 2.1,\n",
       " 3.9,\n",
       " 3.7,\n",
       " 3.1,\n",
       " 2.8,\n",
       " 3.4,\n",
       " 4.9,\n",
       " 4.8,\n",
       " 3.4,\n",
       " 3.6,\n",
       " 4.2,\n",
       " 3.8,\n",
       " 2.7,\n",
       " 4.2,\n",
       " 3.7,\n",
       " 3.5,\n",
       " 4.8,\n",
       " 3.2,\n",
       " 4.0,\n",
       " 3.0,\n",
       " 3.5,\n",
       " 3.5,\n",
       " 4.0,\n",
       " 3.1]"
      ]
     },
     "execution_count": 155,
     "metadata": {},
     "output_type": "execute_result"
    }
   ],
   "source": [
    "i = 1\n",
    "ten_rolls_means = ([])\n",
    "for i in np.arange(1,1001):\n",
    "    mean = np.sum(np.random.choice(die,10))/10\n",
    "    ten_rolls_means.append(mean)\n",
    "\n",
    "ten_rolls_means"
   ]
  },
  {
   "cell_type": "markdown",
   "metadata": {},
   "source": [
    "# Congratulations!\n",
    "\n",
    "You have finished the Programming Bootcamp! This was a **very** quick tour of the Jupyter notebooks specifically and Python language in general; feel free to keep returning to it for reference as you continue your programming journey. Programming is not a memorization-based discipline, and the answers you need are usually just a Google search away."
   ]
  }
 ],
 "metadata": {
  "kernelspec": {
   "display_name": "Python 3",
   "language": "python",
   "name": "python3"
  },
  "language_info": {
   "codemirror_mode": {
    "name": "ipython",
    "version": 3
   },
   "file_extension": ".py",
   "mimetype": "text/x-python",
   "name": "python",
   "nbconvert_exporter": "python",
   "pygments_lexer": "ipython3",
   "version": "3.8.5"
  }
 },
 "nbformat": 4,
 "nbformat_minor": 2
}
